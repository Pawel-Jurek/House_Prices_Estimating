{
 "cells": [
  {
   "cell_type": "code",
   "execution_count": 1,
   "id": "3c6c13e0-1288-4019-ac3e-23c4ce054fa8",
   "metadata": {},
   "outputs": [],
   "source": [
    "import pandas as pd\n",
    "import numpy as np"
   ]
  },
  {
   "cell_type": "code",
   "execution_count": 7,
   "id": "afee77ac-9c8d-486f-aa6c-68746d97a70a",
   "metadata": {},
   "outputs": [
    {
     "data": {
      "text/html": [
       "<div>\n",
       "<style scoped>\n",
       "    .dataframe tbody tr th:only-of-type {\n",
       "        vertical-align: middle;\n",
       "    }\n",
       "\n",
       "    .dataframe tbody tr th {\n",
       "        vertical-align: top;\n",
       "    }\n",
       "\n",
       "    .dataframe thead th {\n",
       "        text-align: right;\n",
       "    }\n",
       "</style>\n",
       "<table border=\"1\" class=\"dataframe\">\n",
       "  <thead>\n",
       "    <tr style=\"text-align: right;\">\n",
       "      <th></th>\n",
       "      <th>no</th>\n",
       "      <th>address</th>\n",
       "      <th>city</th>\n",
       "      <th>floor</th>\n",
       "      <th>id</th>\n",
       "      <th>latitude</th>\n",
       "      <th>longitude</th>\n",
       "      <th>price</th>\n",
       "      <th>rooms</th>\n",
       "      <th>sq</th>\n",
       "      <th>year</th>\n",
       "    </tr>\n",
       "  </thead>\n",
       "  <tbody>\n",
       "    <tr>\n",
       "      <th>0</th>\n",
       "      <td>0</td>\n",
       "      <td>Podgórze Zabłocie Stanisława Klimeckiego</td>\n",
       "      <td>Kraków</td>\n",
       "      <td>2.0</td>\n",
       "      <td>23918.0</td>\n",
       "      <td>50.049224</td>\n",
       "      <td>19.970379</td>\n",
       "      <td>749000.0</td>\n",
       "      <td>3.0</td>\n",
       "      <td>74.05</td>\n",
       "      <td>2021.0</td>\n",
       "    </tr>\n",
       "    <tr>\n",
       "      <th>1</th>\n",
       "      <td>1</td>\n",
       "      <td>Praga-Południe Grochowska</td>\n",
       "      <td>Warszawa</td>\n",
       "      <td>3.0</td>\n",
       "      <td>17828.0</td>\n",
       "      <td>52.249775</td>\n",
       "      <td>21.106886</td>\n",
       "      <td>240548.0</td>\n",
       "      <td>1.0</td>\n",
       "      <td>24.38</td>\n",
       "      <td>2021.0</td>\n",
       "    </tr>\n",
       "    <tr>\n",
       "      <th>2</th>\n",
       "      <td>2</td>\n",
       "      <td>Krowodrza Czarnowiejska</td>\n",
       "      <td>Kraków</td>\n",
       "      <td>2.0</td>\n",
       "      <td>22784.0</td>\n",
       "      <td>50.066964</td>\n",
       "      <td>19.920025</td>\n",
       "      <td>427000.0</td>\n",
       "      <td>2.0</td>\n",
       "      <td>37.00</td>\n",
       "      <td>1970.0</td>\n",
       "    </tr>\n",
       "    <tr>\n",
       "      <th>3</th>\n",
       "      <td>3</td>\n",
       "      <td>Grunwald</td>\n",
       "      <td>Poznań</td>\n",
       "      <td>2.0</td>\n",
       "      <td>4315.0</td>\n",
       "      <td>52.404212</td>\n",
       "      <td>16.882542</td>\n",
       "      <td>1290000.0</td>\n",
       "      <td>5.0</td>\n",
       "      <td>166.00</td>\n",
       "      <td>1935.0</td>\n",
       "    </tr>\n",
       "    <tr>\n",
       "      <th>4</th>\n",
       "      <td>4</td>\n",
       "      <td>Ochota Gotowy budynek. Stan deweloperski. Osta...</td>\n",
       "      <td>Warszawa</td>\n",
       "      <td>1.0</td>\n",
       "      <td>11770.0</td>\n",
       "      <td>52.212225</td>\n",
       "      <td>20.972630</td>\n",
       "      <td>996000.0</td>\n",
       "      <td>5.0</td>\n",
       "      <td>105.00</td>\n",
       "      <td>2020.0</td>\n",
       "    </tr>\n",
       "  </tbody>\n",
       "</table>\n",
       "</div>"
      ],
      "text/plain": [
       "   no                                            address      city  floor  \\\n",
       "0   0           Podgórze Zabłocie Stanisława Klimeckiego    Kraków    2.0   \n",
       "1   1                          Praga-Południe Grochowska  Warszawa    3.0   \n",
       "2   2                            Krowodrza Czarnowiejska    Kraków    2.0   \n",
       "3   3                                           Grunwald    Poznań    2.0   \n",
       "4   4  Ochota Gotowy budynek. Stan deweloperski. Osta...  Warszawa    1.0   \n",
       "\n",
       "        id   latitude  longitude      price  rooms      sq    year  \n",
       "0  23918.0  50.049224  19.970379   749000.0    3.0   74.05  2021.0  \n",
       "1  17828.0  52.249775  21.106886   240548.0    1.0   24.38  2021.0  \n",
       "2  22784.0  50.066964  19.920025   427000.0    2.0   37.00  1970.0  \n",
       "3   4315.0  52.404212  16.882542  1290000.0    5.0  166.00  1935.0  \n",
       "4  11770.0  52.212225  20.972630   996000.0    5.0  105.00  2020.0  "
      ]
     },
     "execution_count": 7,
     "metadata": {},
     "output_type": "execute_result"
    }
   ],
   "source": [
    "df1 = pd.read_csv(\"Houses.csv\", encoding='windows-1250')\n",
    "df1.head()"
   ]
  },
  {
   "cell_type": "code",
   "execution_count": 8,
   "id": "8acca86e-6140-4227-85ff-9466246db11e",
   "metadata": {},
   "outputs": [
    {
     "data": {
      "text/plain": [
       "(23764, 11)"
      ]
     },
     "execution_count": 8,
     "metadata": {},
     "output_type": "execute_result"
    }
   ],
   "source": [
    "df1.shape"
   ]
  },
  {
   "cell_type": "code",
   "execution_count": 9,
   "id": "a4b7595a-9202-4116-99e2-c65b29c202c3",
   "metadata": {},
   "outputs": [],
   "source": [
    "df2 = df1.drop([\"no\",\"latitude\", \"longitude\", \"id\"], axis='columns')"
   ]
  },
  {
   "cell_type": "code",
   "execution_count": 10,
   "id": "31a7e43a-7726-4d9d-a941-0561ab1485ec",
   "metadata": {},
   "outputs": [
    {
     "data": {
      "text/html": [
       "<div>\n",
       "<style scoped>\n",
       "    .dataframe tbody tr th:only-of-type {\n",
       "        vertical-align: middle;\n",
       "    }\n",
       "\n",
       "    .dataframe tbody tr th {\n",
       "        vertical-align: top;\n",
       "    }\n",
       "\n",
       "    .dataframe thead th {\n",
       "        text-align: right;\n",
       "    }\n",
       "</style>\n",
       "<table border=\"1\" class=\"dataframe\">\n",
       "  <thead>\n",
       "    <tr style=\"text-align: right;\">\n",
       "      <th></th>\n",
       "      <th>address</th>\n",
       "      <th>city</th>\n",
       "      <th>floor</th>\n",
       "      <th>price</th>\n",
       "      <th>rooms</th>\n",
       "      <th>sq</th>\n",
       "      <th>year</th>\n",
       "    </tr>\n",
       "  </thead>\n",
       "  <tbody>\n",
       "    <tr>\n",
       "      <th>0</th>\n",
       "      <td>Podgórze Zabłocie Stanisława Klimeckiego</td>\n",
       "      <td>Kraków</td>\n",
       "      <td>2.0</td>\n",
       "      <td>749000.0</td>\n",
       "      <td>3.0</td>\n",
       "      <td>74.05</td>\n",
       "      <td>2021.0</td>\n",
       "    </tr>\n",
       "    <tr>\n",
       "      <th>1</th>\n",
       "      <td>Praga-Południe Grochowska</td>\n",
       "      <td>Warszawa</td>\n",
       "      <td>3.0</td>\n",
       "      <td>240548.0</td>\n",
       "      <td>1.0</td>\n",
       "      <td>24.38</td>\n",
       "      <td>2021.0</td>\n",
       "    </tr>\n",
       "    <tr>\n",
       "      <th>2</th>\n",
       "      <td>Krowodrza Czarnowiejska</td>\n",
       "      <td>Kraków</td>\n",
       "      <td>2.0</td>\n",
       "      <td>427000.0</td>\n",
       "      <td>2.0</td>\n",
       "      <td>37.00</td>\n",
       "      <td>1970.0</td>\n",
       "    </tr>\n",
       "    <tr>\n",
       "      <th>3</th>\n",
       "      <td>Grunwald</td>\n",
       "      <td>Poznań</td>\n",
       "      <td>2.0</td>\n",
       "      <td>1290000.0</td>\n",
       "      <td>5.0</td>\n",
       "      <td>166.00</td>\n",
       "      <td>1935.0</td>\n",
       "    </tr>\n",
       "    <tr>\n",
       "      <th>4</th>\n",
       "      <td>Ochota Gotowy budynek. Stan deweloperski. Osta...</td>\n",
       "      <td>Warszawa</td>\n",
       "      <td>1.0</td>\n",
       "      <td>996000.0</td>\n",
       "      <td>5.0</td>\n",
       "      <td>105.00</td>\n",
       "      <td>2020.0</td>\n",
       "    </tr>\n",
       "    <tr>\n",
       "      <th>5</th>\n",
       "      <td>Nowa Huta Czyżyny ul. Woźniców</td>\n",
       "      <td>Kraków</td>\n",
       "      <td>2.0</td>\n",
       "      <td>414600.0</td>\n",
       "      <td>1.0</td>\n",
       "      <td>34.55</td>\n",
       "      <td>2022.0</td>\n",
       "    </tr>\n",
       "    <tr>\n",
       "      <th>6</th>\n",
       "      <td>Podgórze Płaszów Koszykarska</td>\n",
       "      <td>Kraków</td>\n",
       "      <td>0.0</td>\n",
       "      <td>750000.0</td>\n",
       "      <td>4.0</td>\n",
       "      <td>81.40</td>\n",
       "      <td>2021.0</td>\n",
       "    </tr>\n",
       "    <tr>\n",
       "      <th>7</th>\n",
       "      <td>Mokotów Pory</td>\n",
       "      <td>Warszawa</td>\n",
       "      <td>10.0</td>\n",
       "      <td>2890000.0</td>\n",
       "      <td>6.0</td>\n",
       "      <td>280.00</td>\n",
       "      <td>2003.0</td>\n",
       "    </tr>\n",
       "    <tr>\n",
       "      <th>8</th>\n",
       "      <td>Ursynów Wyżyny</td>\n",
       "      <td>Warszawa</td>\n",
       "      <td>3.0</td>\n",
       "      <td>615000.0</td>\n",
       "      <td>4.0</td>\n",
       "      <td>63.40</td>\n",
       "      <td>1982.0</td>\n",
       "    </tr>\n",
       "    <tr>\n",
       "      <th>9</th>\n",
       "      <td>Bemowo</td>\n",
       "      <td>Warszawa</td>\n",
       "      <td>1.0</td>\n",
       "      <td>429000.0</td>\n",
       "      <td>1.0</td>\n",
       "      <td>40.00</td>\n",
       "      <td>1999.0</td>\n",
       "    </tr>\n",
       "  </tbody>\n",
       "</table>\n",
       "</div>"
      ],
      "text/plain": [
       "                                             address      city  floor  \\\n",
       "0           Podgórze Zabłocie Stanisława Klimeckiego    Kraków    2.0   \n",
       "1                          Praga-Południe Grochowska  Warszawa    3.0   \n",
       "2                            Krowodrza Czarnowiejska    Kraków    2.0   \n",
       "3                                           Grunwald    Poznań    2.0   \n",
       "4  Ochota Gotowy budynek. Stan deweloperski. Osta...  Warszawa    1.0   \n",
       "5                     Nowa Huta Czyżyny ul. Woźniców    Kraków    2.0   \n",
       "6                       Podgórze Płaszów Koszykarska    Kraków    0.0   \n",
       "7                                       Mokotów Pory  Warszawa   10.0   \n",
       "8                                     Ursynów Wyżyny  Warszawa    3.0   \n",
       "9                                             Bemowo  Warszawa    1.0   \n",
       "\n",
       "       price  rooms      sq    year  \n",
       "0   749000.0    3.0   74.05  2021.0  \n",
       "1   240548.0    1.0   24.38  2021.0  \n",
       "2   427000.0    2.0   37.00  1970.0  \n",
       "3  1290000.0    5.0  166.00  1935.0  \n",
       "4   996000.0    5.0  105.00  2020.0  \n",
       "5   414600.0    1.0   34.55  2022.0  \n",
       "6   750000.0    4.0   81.40  2021.0  \n",
       "7  2890000.0    6.0  280.00  2003.0  \n",
       "8   615000.0    4.0   63.40  1982.0  \n",
       "9   429000.0    1.0   40.00  1999.0  "
      ]
     },
     "execution_count": 10,
     "metadata": {},
     "output_type": "execute_result"
    }
   ],
   "source": [
    "df2.head(10)"
   ]
  },
  {
   "cell_type": "code",
   "execution_count": 11,
   "id": "6c41ea42-e9fd-4d26-8886-1cb32bc44113",
   "metadata": {},
   "outputs": [
    {
     "data": {
      "text/plain": [
       "address    0\n",
       "city       0\n",
       "floor      0\n",
       "price      0\n",
       "rooms      0\n",
       "sq         0\n",
       "year       0\n",
       "dtype: int64"
      ]
     },
     "execution_count": 11,
     "metadata": {},
     "output_type": "execute_result"
    }
   ],
   "source": [
    "df2.isnull().sum()"
   ]
  },
  {
   "cell_type": "code",
   "execution_count": 13,
   "id": "b7aeee39-fff1-498b-bc92-8f72d6ff36ad",
   "metadata": {},
   "outputs": [],
   "source": [
    "df3 = df2.copy()\n",
    "df3['price_per_sq'] = df3['price'] / df3['sq']"
   ]
  },
  {
   "cell_type": "code",
   "execution_count": 14,
   "id": "5b12279d-937f-47e8-bc69-0662a2f047d6",
   "metadata": {},
   "outputs": [
    {
     "data": {
      "text/html": [
       "<div>\n",
       "<style scoped>\n",
       "    .dataframe tbody tr th:only-of-type {\n",
       "        vertical-align: middle;\n",
       "    }\n",
       "\n",
       "    .dataframe tbody tr th {\n",
       "        vertical-align: top;\n",
       "    }\n",
       "\n",
       "    .dataframe thead th {\n",
       "        text-align: right;\n",
       "    }\n",
       "</style>\n",
       "<table border=\"1\" class=\"dataframe\">\n",
       "  <thead>\n",
       "    <tr style=\"text-align: right;\">\n",
       "      <th></th>\n",
       "      <th>address</th>\n",
       "      <th>city</th>\n",
       "      <th>floor</th>\n",
       "      <th>price</th>\n",
       "      <th>rooms</th>\n",
       "      <th>sq</th>\n",
       "      <th>year</th>\n",
       "      <th>price_per_sq</th>\n",
       "    </tr>\n",
       "  </thead>\n",
       "  <tbody>\n",
       "    <tr>\n",
       "      <th>0</th>\n",
       "      <td>Podgórze Zabłocie Stanisława Klimeckiego</td>\n",
       "      <td>Kraków</td>\n",
       "      <td>2.0</td>\n",
       "      <td>749000.0</td>\n",
       "      <td>3.0</td>\n",
       "      <td>74.05</td>\n",
       "      <td>2021.0</td>\n",
       "      <td>10114.787306</td>\n",
       "    </tr>\n",
       "    <tr>\n",
       "      <th>1</th>\n",
       "      <td>Praga-Południe Grochowska</td>\n",
       "      <td>Warszawa</td>\n",
       "      <td>3.0</td>\n",
       "      <td>240548.0</td>\n",
       "      <td>1.0</td>\n",
       "      <td>24.38</td>\n",
       "      <td>2021.0</td>\n",
       "      <td>9866.611977</td>\n",
       "    </tr>\n",
       "    <tr>\n",
       "      <th>2</th>\n",
       "      <td>Krowodrza Czarnowiejska</td>\n",
       "      <td>Kraków</td>\n",
       "      <td>2.0</td>\n",
       "      <td>427000.0</td>\n",
       "      <td>2.0</td>\n",
       "      <td>37.00</td>\n",
       "      <td>1970.0</td>\n",
       "      <td>11540.540541</td>\n",
       "    </tr>\n",
       "    <tr>\n",
       "      <th>3</th>\n",
       "      <td>Grunwald</td>\n",
       "      <td>Poznań</td>\n",
       "      <td>2.0</td>\n",
       "      <td>1290000.0</td>\n",
       "      <td>5.0</td>\n",
       "      <td>166.00</td>\n",
       "      <td>1935.0</td>\n",
       "      <td>7771.084337</td>\n",
       "    </tr>\n",
       "    <tr>\n",
       "      <th>4</th>\n",
       "      <td>Ochota Gotowy budynek. Stan deweloperski. Osta...</td>\n",
       "      <td>Warszawa</td>\n",
       "      <td>1.0</td>\n",
       "      <td>996000.0</td>\n",
       "      <td>5.0</td>\n",
       "      <td>105.00</td>\n",
       "      <td>2020.0</td>\n",
       "      <td>9485.714286</td>\n",
       "    </tr>\n",
       "  </tbody>\n",
       "</table>\n",
       "</div>"
      ],
      "text/plain": [
       "                                             address      city  floor  \\\n",
       "0           Podgórze Zabłocie Stanisława Klimeckiego    Kraków    2.0   \n",
       "1                          Praga-Południe Grochowska  Warszawa    3.0   \n",
       "2                            Krowodrza Czarnowiejska    Kraków    2.0   \n",
       "3                                           Grunwald    Poznań    2.0   \n",
       "4  Ochota Gotowy budynek. Stan deweloperski. Osta...  Warszawa    1.0   \n",
       "\n",
       "       price  rooms      sq    year  price_per_sq  \n",
       "0   749000.0    3.0   74.05  2021.0  10114.787306  \n",
       "1   240548.0    1.0   24.38  2021.0   9866.611977  \n",
       "2   427000.0    2.0   37.00  1970.0  11540.540541  \n",
       "3  1290000.0    5.0  166.00  1935.0   7771.084337  \n",
       "4   996000.0    5.0  105.00  2020.0   9485.714286  "
      ]
     },
     "execution_count": 14,
     "metadata": {},
     "output_type": "execute_result"
    }
   ],
   "source": [
    "df3.head()"
   ]
  },
  {
   "cell_type": "code",
   "execution_count": 15,
   "id": "6d5857e8-65b9-45aa-bc5c-a0d5fe707878",
   "metadata": {},
   "outputs": [
    {
     "data": {
      "text/plain": [
       "5419"
      ]
     },
     "execution_count": 15,
     "metadata": {},
     "output_type": "execute_result"
    }
   ],
   "source": [
    "len(df3.address.unique())"
   ]
  },
  {
   "cell_type": "code",
   "execution_count": 18,
   "id": "6fe077fe-d7c0-4149-8f57-0d611a5850c4",
   "metadata": {},
   "outputs": [
    {
     "data": {
      "text/plain": [
       "address\n",
       "Mokotów                                          426\n",
       "Wola                                             384\n",
       "Nowe Miasto Malta ul. Katowicka                  377\n",
       "Śródmieście                                      352\n",
       "Białołęka                                        248\n",
       "                                                ... \n",
       "Praga-Północ Nowa Praga Plac Hallera               1\n",
       "Praga-Północ Nowa Praga Stefana Starzyńskiego      1\n",
       "Praga-Północ Nowa Praga Strzelecka                 1\n",
       "Praga-Północ Nowa Praga Wileńska 16                1\n",
       "Żoliborz Żoliborz Artystyczny                      1\n",
       "Name: address, Length: 5392, dtype: int64"
      ]
     },
     "execution_count": 18,
     "metadata": {},
     "output_type": "execute_result"
    }
   ],
   "source": [
    "df3.address = df3.address.apply(lambda x: x.strip())\n",
    "\n",
    "address_stats = df3.groupby('address')['address'].agg('count').sort_values(ascending=False)\n",
    "address_stats"
   ]
  },
  {
   "cell_type": "code",
   "execution_count": 19,
   "id": "4fad3646-5d9b-4868-90c9-3a3174ca1b13",
   "metadata": {},
   "outputs": [
    {
     "data": {
      "text/plain": [
       "5084"
      ]
     },
     "execution_count": 19,
     "metadata": {},
     "output_type": "execute_result"
    }
   ],
   "source": [
    "len(address_stats[address_stats<=10])"
   ]
  },
  {
   "cell_type": "code",
   "execution_count": 20,
   "id": "84b31000-bb2f-4b65-a173-d0247a0a7723",
   "metadata": {},
   "outputs": [],
   "source": [
    "address_stats_less_than_10 = address_stats[address_stats<=10]\n",
    "df3.address = df3.address.apply(lambda x: 'Other' if x in address_stats_less_than_10 else x)"
   ]
  },
  {
   "cell_type": "code",
   "execution_count": 21,
   "id": "593adb8a-33bf-4ada-8b2e-5bece61479d2",
   "metadata": {},
   "outputs": [
    {
     "data": {
      "text/plain": [
       "309"
      ]
     },
     "execution_count": 21,
     "metadata": {},
     "output_type": "execute_result"
    }
   ],
   "source": [
    "len(df3.address.unique())"
   ]
  },
  {
   "cell_type": "code",
   "execution_count": null,
   "id": "6d5d99e5-52cd-4e07-b963-29cbf4784b10",
   "metadata": {},
   "outputs": [],
   "source": []
  }
 ],
 "metadata": {
  "kernelspec": {
   "display_name": "AIenv",
   "language": "python",
   "name": "aienv"
  },
  "language_info": {
   "codemirror_mode": {
    "name": "ipython",
    "version": 3
   },
   "file_extension": ".py",
   "mimetype": "text/x-python",
   "name": "python",
   "nbconvert_exporter": "python",
   "pygments_lexer": "ipython3",
   "version": "3.10.5"
  }
 },
 "nbformat": 4,
 "nbformat_minor": 5
}
