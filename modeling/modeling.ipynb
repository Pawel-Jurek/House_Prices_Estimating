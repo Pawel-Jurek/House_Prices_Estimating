{
 "cells": [
  {
   "cell_type": "code",
   "execution_count": 1,
   "id": "43acf628-7a1a-4dc5-9105-46bdff2b5739",
   "metadata": {},
   "outputs": [],
   "source": [
    "# Czym są kolejne df\n",
    "# df1 - dane początkowe\n",
    "# df2 - dane df1 bez niepotrzebnych kolumn\n",
    "# df3 - dane df2 z uproszczonymi adresami (other bądź faktyczny adres, jeśli jest powtarzalny)\n",
    "# df4 - dane df3 z usuniętymi wartościami skrajnymi\n",
    "# df5 - dane df4 z usuniętymi polami gdy cena mieszkania z 2 pokojami przewyższa cenę z 3 pokojami\n",
    "# Co z resztą ilości pokoi? Piętro może robić znaczenie i adres, który się nam zmieni na dzielnicę. Ja bym usunął\n",
    "# df6 - dane df1 z kolumną prize_per_sq oraz z usuniętymi ekstramalnymi wartościami cenowymi\n",
    "# df7 - dane df6 z podziałem na dzielnice zamiast adresów"
   ]
  },
  {
   "cell_type": "code",
   "execution_count": 2,
   "id": "3c6c13e0-1288-4019-ac3e-23c4ce054fa8",
   "metadata": {},
   "outputs": [],
   "source": [
    "# Wszystkie potrzbne importy w projekcie\n",
    "import pandas as pd\n",
    "import numpy as np\n",
    "import matplotlib\n",
    "import matplotlib.pyplot as plt\n",
    "from sklearn.model_selection import train_test_split\n",
    "from sklearn.linear_model import LinearRegression"
   ]
  },
  {
   "cell_type": "code",
   "execution_count": 3,
   "id": "afee77ac-9c8d-486f-aa6c-68746d97a70a",
   "metadata": {},
   "outputs": [
    {
     "data": {
      "text/html": [
       "<div>\n",
       "<style scoped>\n",
       "    .dataframe tbody tr th:only-of-type {\n",
       "        vertical-align: middle;\n",
       "    }\n",
       "\n",
       "    .dataframe tbody tr th {\n",
       "        vertical-align: top;\n",
       "    }\n",
       "\n",
       "    .dataframe thead th {\n",
       "        text-align: right;\n",
       "    }\n",
       "</style>\n",
       "<table border=\"1\" class=\"dataframe\">\n",
       "  <thead>\n",
       "    <tr style=\"text-align: right;\">\n",
       "      <th></th>\n",
       "      <th>no</th>\n",
       "      <th>address</th>\n",
       "      <th>city</th>\n",
       "      <th>floor</th>\n",
       "      <th>id</th>\n",
       "      <th>latitude</th>\n",
       "      <th>longitude</th>\n",
       "      <th>price</th>\n",
       "      <th>rooms</th>\n",
       "      <th>sq</th>\n",
       "      <th>year</th>\n",
       "    </tr>\n",
       "  </thead>\n",
       "  <tbody>\n",
       "    <tr>\n",
       "      <th>0</th>\n",
       "      <td>0</td>\n",
       "      <td>Podgórze Zabłocie Stanisława Klimeckiego</td>\n",
       "      <td>Kraków</td>\n",
       "      <td>2.0</td>\n",
       "      <td>23918.0</td>\n",
       "      <td>50.049224</td>\n",
       "      <td>19.970379</td>\n",
       "      <td>749000.0</td>\n",
       "      <td>3.0</td>\n",
       "      <td>74.05</td>\n",
       "      <td>2021.0</td>\n",
       "    </tr>\n",
       "    <tr>\n",
       "      <th>1</th>\n",
       "      <td>1</td>\n",
       "      <td>Praga-Południe Grochowska</td>\n",
       "      <td>Warszawa</td>\n",
       "      <td>3.0</td>\n",
       "      <td>17828.0</td>\n",
       "      <td>52.249775</td>\n",
       "      <td>21.106886</td>\n",
       "      <td>240548.0</td>\n",
       "      <td>1.0</td>\n",
       "      <td>24.38</td>\n",
       "      <td>2021.0</td>\n",
       "    </tr>\n",
       "    <tr>\n",
       "      <th>2</th>\n",
       "      <td>2</td>\n",
       "      <td>Krowodrza Czarnowiejska</td>\n",
       "      <td>Kraków</td>\n",
       "      <td>2.0</td>\n",
       "      <td>22784.0</td>\n",
       "      <td>50.066964</td>\n",
       "      <td>19.920025</td>\n",
       "      <td>427000.0</td>\n",
       "      <td>2.0</td>\n",
       "      <td>37.00</td>\n",
       "      <td>1970.0</td>\n",
       "    </tr>\n",
       "    <tr>\n",
       "      <th>3</th>\n",
       "      <td>3</td>\n",
       "      <td>Grunwald</td>\n",
       "      <td>Poznań</td>\n",
       "      <td>2.0</td>\n",
       "      <td>4315.0</td>\n",
       "      <td>52.404212</td>\n",
       "      <td>16.882542</td>\n",
       "      <td>1290000.0</td>\n",
       "      <td>5.0</td>\n",
       "      <td>166.00</td>\n",
       "      <td>1935.0</td>\n",
       "    </tr>\n",
       "    <tr>\n",
       "      <th>4</th>\n",
       "      <td>4</td>\n",
       "      <td>Ochota Gotowy budynek. Stan deweloperski. Osta...</td>\n",
       "      <td>Warszawa</td>\n",
       "      <td>1.0</td>\n",
       "      <td>11770.0</td>\n",
       "      <td>52.212225</td>\n",
       "      <td>20.972630</td>\n",
       "      <td>996000.0</td>\n",
       "      <td>5.0</td>\n",
       "      <td>105.00</td>\n",
       "      <td>2020.0</td>\n",
       "    </tr>\n",
       "  </tbody>\n",
       "</table>\n",
       "</div>"
      ],
      "text/plain": [
       "   no                                            address      city  floor  \\\n",
       "0   0           Podgórze Zabłocie Stanisława Klimeckiego    Kraków    2.0   \n",
       "1   1                          Praga-Południe Grochowska  Warszawa    3.0   \n",
       "2   2                            Krowodrza Czarnowiejska    Kraków    2.0   \n",
       "3   3                                           Grunwald    Poznań    2.0   \n",
       "4   4  Ochota Gotowy budynek. Stan deweloperski. Osta...  Warszawa    1.0   \n",
       "\n",
       "        id   latitude  longitude      price  rooms      sq    year  \n",
       "0  23918.0  50.049224  19.970379   749000.0    3.0   74.05  2021.0  \n",
       "1  17828.0  52.249775  21.106886   240548.0    1.0   24.38  2021.0  \n",
       "2  22784.0  50.066964  19.920025   427000.0    2.0   37.00  1970.0  \n",
       "3   4315.0  52.404212  16.882542  1290000.0    5.0  166.00  1935.0  \n",
       "4  11770.0  52.212225  20.972630   996000.0    5.0  105.00  2020.0  "
      ]
     },
     "execution_count": 3,
     "metadata": {},
     "output_type": "execute_result"
    }
   ],
   "source": [
    "df1 = pd.read_csv(\"Houses.csv\", encoding='windows-1250')\n",
    "df1.head()"
   ]
  },
  {
   "cell_type": "code",
   "execution_count": 4,
   "id": "8acca86e-6140-4227-85ff-9466246db11e",
   "metadata": {},
   "outputs": [
    {
     "data": {
      "text/plain": [
       "(23764, 11)"
      ]
     },
     "execution_count": 4,
     "metadata": {},
     "output_type": "execute_result"
    }
   ],
   "source": [
    "df1.shape"
   ]
  },
  {
   "cell_type": "code",
   "execution_count": 5,
   "id": "a4b7595a-9202-4116-99e2-c65b29c202c3",
   "metadata": {},
   "outputs": [],
   "source": [
    "df2 = df1.drop([\"no\",\"latitude\", \"longitude\", \"id\"], axis='columns')"
   ]
  },
  {
   "cell_type": "code",
   "execution_count": 6,
   "id": "31a7e43a-7726-4d9d-a941-0561ab1485ec",
   "metadata": {},
   "outputs": [
    {
     "data": {
      "text/html": [
       "<div>\n",
       "<style scoped>\n",
       "    .dataframe tbody tr th:only-of-type {\n",
       "        vertical-align: middle;\n",
       "    }\n",
       "\n",
       "    .dataframe tbody tr th {\n",
       "        vertical-align: top;\n",
       "    }\n",
       "\n",
       "    .dataframe thead th {\n",
       "        text-align: right;\n",
       "    }\n",
       "</style>\n",
       "<table border=\"1\" class=\"dataframe\">\n",
       "  <thead>\n",
       "    <tr style=\"text-align: right;\">\n",
       "      <th></th>\n",
       "      <th>address</th>\n",
       "      <th>city</th>\n",
       "      <th>floor</th>\n",
       "      <th>price</th>\n",
       "      <th>rooms</th>\n",
       "      <th>sq</th>\n",
       "      <th>year</th>\n",
       "    </tr>\n",
       "  </thead>\n",
       "  <tbody>\n",
       "    <tr>\n",
       "      <th>0</th>\n",
       "      <td>Podgórze Zabłocie Stanisława Klimeckiego</td>\n",
       "      <td>Kraków</td>\n",
       "      <td>2.0</td>\n",
       "      <td>749000.0</td>\n",
       "      <td>3.0</td>\n",
       "      <td>74.05</td>\n",
       "      <td>2021.0</td>\n",
       "    </tr>\n",
       "    <tr>\n",
       "      <th>1</th>\n",
       "      <td>Praga-Południe Grochowska</td>\n",
       "      <td>Warszawa</td>\n",
       "      <td>3.0</td>\n",
       "      <td>240548.0</td>\n",
       "      <td>1.0</td>\n",
       "      <td>24.38</td>\n",
       "      <td>2021.0</td>\n",
       "    </tr>\n",
       "    <tr>\n",
       "      <th>2</th>\n",
       "      <td>Krowodrza Czarnowiejska</td>\n",
       "      <td>Kraków</td>\n",
       "      <td>2.0</td>\n",
       "      <td>427000.0</td>\n",
       "      <td>2.0</td>\n",
       "      <td>37.00</td>\n",
       "      <td>1970.0</td>\n",
       "    </tr>\n",
       "    <tr>\n",
       "      <th>3</th>\n",
       "      <td>Grunwald</td>\n",
       "      <td>Poznań</td>\n",
       "      <td>2.0</td>\n",
       "      <td>1290000.0</td>\n",
       "      <td>5.0</td>\n",
       "      <td>166.00</td>\n",
       "      <td>1935.0</td>\n",
       "    </tr>\n",
       "    <tr>\n",
       "      <th>4</th>\n",
       "      <td>Ochota Gotowy budynek. Stan deweloperski. Osta...</td>\n",
       "      <td>Warszawa</td>\n",
       "      <td>1.0</td>\n",
       "      <td>996000.0</td>\n",
       "      <td>5.0</td>\n",
       "      <td>105.00</td>\n",
       "      <td>2020.0</td>\n",
       "    </tr>\n",
       "    <tr>\n",
       "      <th>5</th>\n",
       "      <td>Nowa Huta Czyżyny ul. Woźniców</td>\n",
       "      <td>Kraków</td>\n",
       "      <td>2.0</td>\n",
       "      <td>414600.0</td>\n",
       "      <td>1.0</td>\n",
       "      <td>34.55</td>\n",
       "      <td>2022.0</td>\n",
       "    </tr>\n",
       "    <tr>\n",
       "      <th>6</th>\n",
       "      <td>Podgórze Płaszów Koszykarska</td>\n",
       "      <td>Kraków</td>\n",
       "      <td>0.0</td>\n",
       "      <td>750000.0</td>\n",
       "      <td>4.0</td>\n",
       "      <td>81.40</td>\n",
       "      <td>2021.0</td>\n",
       "    </tr>\n",
       "    <tr>\n",
       "      <th>7</th>\n",
       "      <td>Mokotów Pory</td>\n",
       "      <td>Warszawa</td>\n",
       "      <td>10.0</td>\n",
       "      <td>2890000.0</td>\n",
       "      <td>6.0</td>\n",
       "      <td>280.00</td>\n",
       "      <td>2003.0</td>\n",
       "    </tr>\n",
       "    <tr>\n",
       "      <th>8</th>\n",
       "      <td>Ursynów Wyżyny</td>\n",
       "      <td>Warszawa</td>\n",
       "      <td>3.0</td>\n",
       "      <td>615000.0</td>\n",
       "      <td>4.0</td>\n",
       "      <td>63.40</td>\n",
       "      <td>1982.0</td>\n",
       "    </tr>\n",
       "    <tr>\n",
       "      <th>9</th>\n",
       "      <td>Bemowo</td>\n",
       "      <td>Warszawa</td>\n",
       "      <td>1.0</td>\n",
       "      <td>429000.0</td>\n",
       "      <td>1.0</td>\n",
       "      <td>40.00</td>\n",
       "      <td>1999.0</td>\n",
       "    </tr>\n",
       "  </tbody>\n",
       "</table>\n",
       "</div>"
      ],
      "text/plain": [
       "                                             address      city  floor  \\\n",
       "0           Podgórze Zabłocie Stanisława Klimeckiego    Kraków    2.0   \n",
       "1                          Praga-Południe Grochowska  Warszawa    3.0   \n",
       "2                            Krowodrza Czarnowiejska    Kraków    2.0   \n",
       "3                                           Grunwald    Poznań    2.0   \n",
       "4  Ochota Gotowy budynek. Stan deweloperski. Osta...  Warszawa    1.0   \n",
       "5                     Nowa Huta Czyżyny ul. Woźniców    Kraków    2.0   \n",
       "6                       Podgórze Płaszów Koszykarska    Kraków    0.0   \n",
       "7                                       Mokotów Pory  Warszawa   10.0   \n",
       "8                                     Ursynów Wyżyny  Warszawa    3.0   \n",
       "9                                             Bemowo  Warszawa    1.0   \n",
       "\n",
       "       price  rooms      sq    year  \n",
       "0   749000.0    3.0   74.05  2021.0  \n",
       "1   240548.0    1.0   24.38  2021.0  \n",
       "2   427000.0    2.0   37.00  1970.0  \n",
       "3  1290000.0    5.0  166.00  1935.0  \n",
       "4   996000.0    5.0  105.00  2020.0  \n",
       "5   414600.0    1.0   34.55  2022.0  \n",
       "6   750000.0    4.0   81.40  2021.0  \n",
       "7  2890000.0    6.0  280.00  2003.0  \n",
       "8   615000.0    4.0   63.40  1982.0  \n",
       "9   429000.0    1.0   40.00  1999.0  "
      ]
     },
     "execution_count": 6,
     "metadata": {},
     "output_type": "execute_result"
    }
   ],
   "source": [
    "df2.head(10)"
   ]
  },
  {
   "cell_type": "code",
   "execution_count": 7,
   "id": "6c41ea42-e9fd-4d26-8886-1cb32bc44113",
   "metadata": {},
   "outputs": [
    {
     "data": {
      "text/plain": [
       "address    0\n",
       "city       0\n",
       "floor      0\n",
       "price      0\n",
       "rooms      0\n",
       "sq         0\n",
       "year       0\n",
       "dtype: int64"
      ]
     },
     "execution_count": 7,
     "metadata": {},
     "output_type": "execute_result"
    }
   ],
   "source": [
    "df2.isnull().sum()"
   ]
  },
  {
   "cell_type": "code",
   "execution_count": 8,
   "id": "b7aeee39-fff1-498b-bc92-8f72d6ff36ad",
   "metadata": {},
   "outputs": [],
   "source": [
    "df3 = df2.copy()\n",
    "df3['price_per_sq'] = df3['price'] / df3['sq']"
   ]
  },
  {
   "cell_type": "code",
   "execution_count": 9,
   "id": "5b12279d-937f-47e8-bc69-0662a2f047d6",
   "metadata": {},
   "outputs": [
    {
     "data": {
      "text/html": [
       "<div>\n",
       "<style scoped>\n",
       "    .dataframe tbody tr th:only-of-type {\n",
       "        vertical-align: middle;\n",
       "    }\n",
       "\n",
       "    .dataframe tbody tr th {\n",
       "        vertical-align: top;\n",
       "    }\n",
       "\n",
       "    .dataframe thead th {\n",
       "        text-align: right;\n",
       "    }\n",
       "</style>\n",
       "<table border=\"1\" class=\"dataframe\">\n",
       "  <thead>\n",
       "    <tr style=\"text-align: right;\">\n",
       "      <th></th>\n",
       "      <th>address</th>\n",
       "      <th>city</th>\n",
       "      <th>floor</th>\n",
       "      <th>price</th>\n",
       "      <th>rooms</th>\n",
       "      <th>sq</th>\n",
       "      <th>year</th>\n",
       "      <th>price_per_sq</th>\n",
       "    </tr>\n",
       "  </thead>\n",
       "  <tbody>\n",
       "    <tr>\n",
       "      <th>0</th>\n",
       "      <td>Podgórze Zabłocie Stanisława Klimeckiego</td>\n",
       "      <td>Kraków</td>\n",
       "      <td>2.0</td>\n",
       "      <td>749000.0</td>\n",
       "      <td>3.0</td>\n",
       "      <td>74.05</td>\n",
       "      <td>2021.0</td>\n",
       "      <td>10114.787306</td>\n",
       "    </tr>\n",
       "    <tr>\n",
       "      <th>1</th>\n",
       "      <td>Praga-Południe Grochowska</td>\n",
       "      <td>Warszawa</td>\n",
       "      <td>3.0</td>\n",
       "      <td>240548.0</td>\n",
       "      <td>1.0</td>\n",
       "      <td>24.38</td>\n",
       "      <td>2021.0</td>\n",
       "      <td>9866.611977</td>\n",
       "    </tr>\n",
       "    <tr>\n",
       "      <th>2</th>\n",
       "      <td>Krowodrza Czarnowiejska</td>\n",
       "      <td>Kraków</td>\n",
       "      <td>2.0</td>\n",
       "      <td>427000.0</td>\n",
       "      <td>2.0</td>\n",
       "      <td>37.00</td>\n",
       "      <td>1970.0</td>\n",
       "      <td>11540.540541</td>\n",
       "    </tr>\n",
       "    <tr>\n",
       "      <th>3</th>\n",
       "      <td>Grunwald</td>\n",
       "      <td>Poznań</td>\n",
       "      <td>2.0</td>\n",
       "      <td>1290000.0</td>\n",
       "      <td>5.0</td>\n",
       "      <td>166.00</td>\n",
       "      <td>1935.0</td>\n",
       "      <td>7771.084337</td>\n",
       "    </tr>\n",
       "    <tr>\n",
       "      <th>4</th>\n",
       "      <td>Ochota Gotowy budynek. Stan deweloperski. Osta...</td>\n",
       "      <td>Warszawa</td>\n",
       "      <td>1.0</td>\n",
       "      <td>996000.0</td>\n",
       "      <td>5.0</td>\n",
       "      <td>105.00</td>\n",
       "      <td>2020.0</td>\n",
       "      <td>9485.714286</td>\n",
       "    </tr>\n",
       "  </tbody>\n",
       "</table>\n",
       "</div>"
      ],
      "text/plain": [
       "                                             address      city  floor  \\\n",
       "0           Podgórze Zabłocie Stanisława Klimeckiego    Kraków    2.0   \n",
       "1                          Praga-Południe Grochowska  Warszawa    3.0   \n",
       "2                            Krowodrza Czarnowiejska    Kraków    2.0   \n",
       "3                                           Grunwald    Poznań    2.0   \n",
       "4  Ochota Gotowy budynek. Stan deweloperski. Osta...  Warszawa    1.0   \n",
       "\n",
       "       price  rooms      sq    year  price_per_sq  \n",
       "0   749000.0    3.0   74.05  2021.0  10114.787306  \n",
       "1   240548.0    1.0   24.38  2021.0   9866.611977  \n",
       "2   427000.0    2.0   37.00  1970.0  11540.540541  \n",
       "3  1290000.0    5.0  166.00  1935.0   7771.084337  \n",
       "4   996000.0    5.0  105.00  2020.0   9485.714286  "
      ]
     },
     "execution_count": 9,
     "metadata": {},
     "output_type": "execute_result"
    }
   ],
   "source": [
    "df3.head()"
   ]
  },
  {
   "cell_type": "code",
   "execution_count": 10,
   "id": "6d5857e8-65b9-45aa-bc5c-a0d5fe707878",
   "metadata": {},
   "outputs": [
    {
     "data": {
      "text/plain": [
       "5419"
      ]
     },
     "execution_count": 10,
     "metadata": {},
     "output_type": "execute_result"
    }
   ],
   "source": [
    "len(df3.address.unique())"
   ]
  },
  {
   "cell_type": "code",
   "execution_count": 11,
   "id": "6fe077fe-d7c0-4149-8f57-0d611a5850c4",
   "metadata": {},
   "outputs": [
    {
     "data": {
      "text/plain": [
       "address\n",
       "Mokotów                                          426\n",
       "Wola                                             384\n",
       "Nowe Miasto Malta ul. Katowicka                  377\n",
       "Śródmieście                                      352\n",
       "Białołęka                                        248\n",
       "                                                ... \n",
       "Praga-Północ Nowa Praga Plac Hallera               1\n",
       "Praga-Północ Nowa Praga Stefana Starzyńskiego      1\n",
       "Praga-Północ Nowa Praga Strzelecka                 1\n",
       "Praga-Północ Nowa Praga Wileńska 16                1\n",
       "Żoliborz Żoliborz Artystyczny                      1\n",
       "Name: address, Length: 5392, dtype: int64"
      ]
     },
     "execution_count": 11,
     "metadata": {},
     "output_type": "execute_result"
    }
   ],
   "source": [
    "df3.address = df3.address.apply(lambda x: x.strip())\n",
    "\n",
    "address_stats = df3.groupby('address')['address'].agg('count').sort_values(ascending=False)\n",
    "address_stats"
   ]
  },
  {
   "cell_type": "code",
   "execution_count": 12,
   "id": "4fad3646-5d9b-4868-90c9-3a3174ca1b13",
   "metadata": {},
   "outputs": [
    {
     "data": {
      "text/plain": [
       "5084"
      ]
     },
     "execution_count": 12,
     "metadata": {},
     "output_type": "execute_result"
    }
   ],
   "source": [
    "len(address_stats[address_stats<=10])"
   ]
  },
  {
   "cell_type": "code",
   "execution_count": 13,
   "id": "84b31000-bb2f-4b65-a173-d0247a0a7723",
   "metadata": {},
   "outputs": [],
   "source": [
    "address_stats_less_than_10 = address_stats[address_stats<=10]\n",
    "df3.address = df3.address.apply(lambda x: 'Other' if x in address_stats_less_than_10 else x)"
   ]
  },
  {
   "cell_type": "code",
   "execution_count": 14,
   "id": "593adb8a-33bf-4ada-8b2e-5bece61479d2",
   "metadata": {},
   "outputs": [
    {
     "data": {
      "text/plain": [
       "309"
      ]
     },
     "execution_count": 14,
     "metadata": {},
     "output_type": "execute_result"
    }
   ],
   "source": [
    "len(df3.address.unique())"
   ]
  },
  {
   "cell_type": "code",
   "execution_count": 15,
   "id": "47956574-4ad9-4311-a05e-949a09e924d2",
   "metadata": {},
   "outputs": [
    {
     "data": {
      "text/plain": [
       "count     23764.000000\n",
       "mean      10760.979594\n",
       "std        3861.161601\n",
       "min           1.000000\n",
       "25%        8400.000000\n",
       "50%        9947.958273\n",
       "75%       12318.157708\n",
       "max      138636.363636\n",
       "Name: price_per_sq, dtype: float64"
      ]
     },
     "execution_count": 15,
     "metadata": {},
     "output_type": "execute_result"
    }
   ],
   "source": [
    "df3.price_per_sq.describe()"
   ]
  },
  {
   "cell_type": "code",
   "execution_count": 16,
   "id": "0143a331-0eac-413a-9555-f298147a37de",
   "metadata": {},
   "outputs": [
    {
     "data": {
      "text/plain": [
       "(19306, 8)"
      ]
     },
     "execution_count": 16,
     "metadata": {},
     "output_type": "execute_result"
    }
   ],
   "source": [
    "def remove_outliers(df):\n",
    "    df_out = pd.DataFrame()\n",
    "    for key, subdf in df.groupby('city'):\n",
    "        m = np.mean(subdf.price_per_sq)\n",
    "        st = np.std(subdf.price_per_sq)\n",
    "        reduced_df = subdf[(subdf.price_per_sq>(m-st)) & (subdf.price_per_sq <= (m+st))]\n",
    "        df_out = pd.concat([df_out, reduced_df], ignore_index = True)\n",
    "    return df_out\n",
    "\n",
    "df4 = remove_outliers(df3)\n",
    "df4.shape"
   ]
  },
  {
   "cell_type": "code",
   "execution_count": 17,
   "id": "e99d9bfa-2e35-46f7-b6fc-d1e6b59cdfa1",
   "metadata": {},
   "outputs": [],
   "source": [
    "#df4 jest bez ekstremalnie malych i ekstremalnie duzych cen ( -4k rows :) )"
   ]
  },
  {
   "cell_type": "code",
   "execution_count": 18,
   "id": "9328791c-3d6e-442e-8b66-3643fe3782ac",
   "metadata": {},
   "outputs": [
    {
     "data": {
      "image/png": "[encoded data removed]",
      "text/plain": [
       "<Figure size 1500x1000 with 1 Axes>"
      ]
     },
     "metadata": {},
     "output_type": "display_data"
    }
   ],
   "source": [
    "def plot_scatter(df, location, address):\n",
    "    rooms2 = df[(df.city == location) & (df.rooms == 2) & (df.address == address)]\n",
    "    rooms3 = df[(df.city == location) & (df.rooms == 3) & (df.address == address)]\n",
    "    matplotlib.rcParams['figure.figsize'] = (15, 10)\n",
    "    plt.scatter(rooms2.sq, rooms2.price, color='green', label='2 rooms', s=10)\n",
    "    plt.scatter(rooms3.sq, rooms3.price, marker='+', color='blue', label='3 rooms', s=20)\n",
    "    plt.legend()\n",
    "\n",
    "plot_scatter(df4, 'Warszawa', 'Wola')"
   ]
  },
  {
   "cell_type": "code",
   "execution_count": 19,
   "id": "1037565d-455b-4d75-8fb9-6b14cbec8a8c",
   "metadata": {},
   "outputs": [],
   "source": [
    "# bóg wie co tu sie dzieje generalnie\n",
    "def remove(df):\n",
    "    exclude_indices = np.array([])\n",
    "    for location, location_df in df.groupby('city'):\n",
    "        rooms_stats = {}\n",
    "        for rooms, rooms_df in location_df.groupby('rooms'):\n",
    "            rooms_stats[rooms] = {\n",
    "                'mean':np.mean(rooms_df.price_per_sq),\n",
    "                'std':np.std(rooms_df.price_per_sq),\n",
    "                'count':rooms_df.shape[0]\n",
    "            }\n",
    "        for rooms, rooms_df in location_df.groupby('rooms'):\n",
    "            stats = rooms_stats.get(rooms-1)\n",
    "            if stats and stats['count']>5:\n",
    "                exclude_indices = np.append(exclude_indices, rooms_df[rooms_df.price_per_sq<(stats['mean'])].index.values)\n",
    "    return df.drop(exclude_indices, axis='index')"
   ]
  },
  {
   "cell_type": "code",
   "execution_count": 20,
   "id": "8dfcf3e1-bb59-47b2-b968-f8c2fe4cc360",
   "metadata": {},
   "outputs": [
    {
     "data": {
      "text/plain": [
       "(7871, 8)"
      ]
     },
     "execution_count": 20,
     "metadata": {},
     "output_type": "execute_result"
    }
   ],
   "source": [
    "df5 = remove(df4)\n",
    "df5.shape\n"
   ]
  },
  {
   "cell_type": "code",
   "execution_count": 21,
   "id": "9a999e59-1a43-48ba-9413-9f6c2e7b647b",
   "metadata": {},
   "outputs": [
    {
     "data": {
      "text/plain": [
       "(19306, 8)"
      ]
     },
     "execution_count": 21,
     "metadata": {},
     "output_type": "execute_result"
    }
   ],
   "source": [
    "# ta 5ka strasznie dużo zjada tych danych, ja bym na tą chwilę został przy 4ce\n",
    "df4.shape"
   ]
  },
  {
   "cell_type": "code",
   "execution_count": 22,
   "id": "fb4d8c31-bb62-4d20-bd6f-283c7dc6bacd",
   "metadata": {},
   "outputs": [],
   "source": [
    "# Trzeba przygotować nowy df, bo na początku wywaliliśmy koordynacje\n",
    "# i uprościliśmy zapis adresów\n",
    "df6 = df1.drop([\"no\", \"id\"], axis='columns')\n",
    "df6['price_per_sq'] = df6['price'] / df6['sq']\n",
    "df6 = remove_outliers(df6)"
   ]
  },
  {
   "cell_type": "code",
   "execution_count": 23,
   "id": "659b43ca-11e8-48ed-a566-69c1021d53a9",
   "metadata": {},
   "outputs": [
    {
     "data": {
      "text/plain": [
       "(19306, 10)"
      ]
     },
     "execution_count": 23,
     "metadata": {},
     "output_type": "execute_result"
    }
   ],
   "source": [
    "df6.shape"
   ]
  },
  {
   "cell_type": "code",
   "execution_count": 24,
   "id": "7d90618b-6f83-446a-ab5b-6f6c985f74c6",
   "metadata": {},
   "outputs": [],
   "source": [
    "def count_addresses_without_neighborhood(df):\n",
    "    licznik = 0\n",
    "    for x in df['address']:\n",
    "        if (\"ul.\" in x) or (any(letter.isdigit() for letter in x)):\n",
    "            licznik+=1\n",
    "    return licznik"
   ]
  },
  {
   "cell_type": "code",
   "execution_count": 25,
   "id": "16091b69-c66a-4989-a4de-6e7a8181a8b2",
   "metadata": {},
   "outputs": [
    {
     "data": {
      "text/plain": [
       "5511"
      ]
     },
     "execution_count": 25,
     "metadata": {},
     "output_type": "execute_result"
    }
   ],
   "source": [
    "count_addresses_without_neighborhood(df6)"
   ]
  },
  {
   "cell_type": "code",
   "execution_count": 26,
   "id": "10ca8ef9-e596-4c5d-8c42-3386da6f8df7",
   "metadata": {},
   "outputs": [
    {
     "data": {
      "text/plain": [
       "4616"
      ]
     },
     "execution_count": 26,
     "metadata": {},
     "output_type": "execute_result"
    }
   ],
   "source": [
    "len(df6.address.unique())"
   ]
  },
  {
   "cell_type": "code",
   "execution_count": 27,
   "id": "fd15e50c-59e8-476c-b62d-70119d117c96",
   "metadata": {},
   "outputs": [
    {
     "name": "stdout",
     "output_type": "stream",
     "text": [
      "Krk:1587\n",
      "WWa:2504\n",
      "Pzn:528\n"
     ]
    }
   ],
   "source": [
    "print(f'Krk:{len(df6[df6.city == \"Kraków\"].address.unique())}')\n",
    "print(f'WWa:{len(df6[df6.city == \"Warszawa\"].address.unique())}')\n",
    "print(f'Pzn:{len(df6[df6.city == \"Poznań\"].address.unique())}')"
   ]
  },
  {
   "cell_type": "code",
   "execution_count": 28,
   "id": "3dcf7bab-a4d9-4c41-9d11-ea8da6d1f8fd",
   "metadata": {},
   "outputs": [],
   "source": [
    "df7 =  pd.read_csv(\"neighborhood_df.csv\", encoding=\"utf-8\")"
   ]
  },
  {
   "cell_type": "code",
   "execution_count": 29,
   "id": "f03af673-a866-4be6-9a3e-025a8a925846",
   "metadata": {},
   "outputs": [],
   "source": [
    "# usunięcie przeoczonych dwóch miejscówek, których nie udało się znaleźć przez API\n",
    "df7.drop(df7[df7.address == 'Śródmieście ul. Kamienna'].index, inplace=True)\n",
    "df7.drop(df7[df7.address == 'Śródmieście Brogi'].index, inplace=True)"
   ]
  },
  {
   "cell_type": "code",
   "execution_count": 30,
   "id": "7e022f4a-88de-4190-8328-12f9f1582011",
   "metadata": {},
   "outputs": [
    {
     "name": "stdout",
     "output_type": "stream",
     "text": [
      "Krk:17\n",
      "WWa:18\n",
      "Pzn:5\n"
     ]
    }
   ],
   "source": [
    "# Trochę się udało poprawić wyniki :)\n",
    "# To są unikalne dzielnice dla każdego miasta\n",
    "print(f'Krk:{len(df7[df7.city == \"Kraków\"].address.unique())}')\n",
    "print(f'WWa:{len(df7[df7.city == \"Warszawa\"].address.unique())}')\n",
    "print(f'Pzn:{len(df7[df7.city == \"Poznań\"].address.unique())}')"
   ]
  },
  {
   "cell_type": "code",
   "execution_count": 31,
   "id": "e6fffd85-493b-45de-a92b-cbd7fc42207f",
   "metadata": {},
   "outputs": [
    {
     "name": "stdout",
     "output_type": "stream",
     "text": [
      "Krw\n",
      "['Podgórze' 'Krowodrza' 'Nowa Huta' 'Stare Miasto' 'Prądnik Biały'\n",
      " 'Dębniki' 'Zwierzyniec' 'Podgórze Duchackie' 'Grzegórzki' 'Bronowice'\n",
      " 'Prądnik Czerwony' 'Bieżanów-Prokocim' 'Mistrzejowice'\n",
      " 'Łagiewniki-Borek Fałęcki' 'Wzgórza Krzesławickie' 'Bieńczyce'\n",
      " 'Swoszowice']\n",
      "Wwa\n",
      "['Praga-Południe' 'Ochota' 'Mokotów' 'Ursynów' 'Bemowo' 'Śródmieście'\n",
      " 'Wola' 'Białołęka' 'Wilanów' 'Włochy' 'Żoliborz' 'Ursus' 'Bielany'\n",
      " 'Targówek' 'Praga-Północ' 'Wesoła' 'Rembertów' 'Wawer']\n",
      "Pzn\n",
      "['Grunwald' 'Nowe Miasto' 'Stare Miasto' 'Jeżyce' 'Wilda']\n"
     ]
    }
   ],
   "source": [
    "print(\"Krw\")\n",
    "print(df7[(df7.city == \"Kraków\")].address.unique())\n",
    "print(\"Wwa\")\n",
    "print(df7[(df7.city == \"Warszawa\")].address.unique())\n",
    "print(\"Pzn\")\n",
    "print(df7[(df7.city == \"Poznań\")].address.unique())"
   ]
  },
  {
   "cell_type": "code",
   "execution_count": 32,
   "id": "51c839d3-2173-4fc8-8912-ae4652893b66",
   "metadata": {},
   "outputs": [
    {
     "name": "stdout",
     "output_type": "stream",
     "text": [
      "Kraków\n",
      "------\n"
     ]
    },
    {
     "data": {
      "text/plain": [
       "address\n",
       "Podgórze                    1062\n",
       "Nowa Huta                   1055\n",
       "Prądnik Biały                787\n",
       "Podgórze Duchackie           655\n",
       "Dębniki                      637\n",
       "Grzegórzki                   574\n",
       "Mistrzejowice                556\n",
       "Krowodrza                    404\n",
       "Stare Miasto                 396\n",
       "Bieżanów-Prokocim            368\n",
       "Prądnik Czerwony             345\n",
       "Bronowice                    333\n",
       "Zwierzyniec                  140\n",
       "Łagiewniki-Borek Fałęcki     105\n",
       "Bieńczyce                     82\n",
       "Wzgórza Krzesławickie         37\n",
       "Swoszowice                    19\n",
       "Name: count, dtype: int64"
      ]
     },
     "execution_count": 32,
     "metadata": {},
     "output_type": "execute_result"
    }
   ],
   "source": [
    "print(\"Kraków\\n------\")\n",
    "krakow_stats = df7.loc[df7['city'] == 'Kraków', 'address'].value_counts().sort_values(ascending=False)\n",
    "krakow_stats"
   ]
  },
  {
   "cell_type": "code",
   "execution_count": 33,
   "id": "83e8e32f-81d4-4dac-ad57-266b05a15480",
   "metadata": {},
   "outputs": [
    {
     "name": "stdout",
     "output_type": "stream",
     "text": [
      "Warszawa\n",
      "------\n"
     ]
    },
    {
     "data": {
      "text/plain": [
       "address\n",
       "Mokotów           1391\n",
       "Wola              1158\n",
       "Praga-Południe     899\n",
       "Bemowo             751\n",
       "Białołęka          634\n",
       "Śródmieście        501\n",
       "Bielany            480\n",
       "Ursynów            472\n",
       "Ochota             418\n",
       "Targówek           339\n",
       "Wilanów            303\n",
       "Ursus              270\n",
       "Praga-Północ       255\n",
       "Żoliborz           241\n",
       "Włochy             205\n",
       "Wawer              122\n",
       "Rembertów           42\n",
       "Wesoła              16\n",
       "Name: count, dtype: int64"
      ]
     },
     "execution_count": 33,
     "metadata": {},
     "output_type": "execute_result"
    }
   ],
   "source": [
    "print(\"Warszawa\\n------\")\n",
    "warszawa_stats = df7.loc[df7['city'] == 'Warszawa', 'address'].value_counts().sort_values(ascending=False)\n",
    "warszawa_stats"
   ]
  },
  {
   "cell_type": "code",
   "execution_count": 34,
   "id": "84914de5-d4be-4e45-ab7d-26f50225fd0d",
   "metadata": {},
   "outputs": [
    {
     "name": "stdout",
     "output_type": "stream",
     "text": [
      "Poznań\n",
      "------\n"
     ]
    },
    {
     "data": {
      "text/plain": [
       "address\n",
       "Nowe Miasto     951\n",
       "Grunwald        879\n",
       "Stare Miasto    829\n",
       "Jeżyce          459\n",
       "Wilda           133\n",
       "Name: count, dtype: int64"
      ]
     },
     "execution_count": 34,
     "metadata": {},
     "output_type": "execute_result"
    }
   ],
   "source": [
    "print(\"Poznań\\n------\")\n",
    "poznan_stats = df7.loc[df7['city'] == 'Poznań', 'address'].value_counts().sort_values(ascending=False)\n",
    "poznan_stats"
   ]
  },
  {
   "cell_type": "code",
   "execution_count": 35,
   "id": "12fe9eae-42f5-4952-85ce-5223057eaaf8",
   "metadata": {},
   "outputs": [
    {
     "data": {
      "text/html": [
       "<div>\n",
       "<style scoped>\n",
       "    .dataframe tbody tr th:only-of-type {\n",
       "        vertical-align: middle;\n",
       "    }\n",
       "\n",
       "    .dataframe tbody tr th {\n",
       "        vertical-align: top;\n",
       "    }\n",
       "\n",
       "    .dataframe thead th {\n",
       "        text-align: right;\n",
       "    }\n",
       "</style>\n",
       "<table border=\"1\" class=\"dataframe\">\n",
       "  <thead>\n",
       "    <tr style=\"text-align: right;\">\n",
       "      <th></th>\n",
       "      <th>Bemowo</th>\n",
       "      <th>Białołęka</th>\n",
       "      <th>Bielany</th>\n",
       "      <th>Bieńczyce</th>\n",
       "      <th>Bieżanów-Prokocim</th>\n",
       "      <th>Bronowice</th>\n",
       "      <th>Dębniki</th>\n",
       "      <th>Grunwald</th>\n",
       "      <th>Grzegórzki</th>\n",
       "      <th>Jeżyce</th>\n",
       "      <th>...</th>\n",
       "      <th>Wesoła</th>\n",
       "      <th>Wilanów</th>\n",
       "      <th>Wilda</th>\n",
       "      <th>Wola</th>\n",
       "      <th>Wzgórza Krzesławickie</th>\n",
       "      <th>Włochy</th>\n",
       "      <th>Zwierzyniec</th>\n",
       "      <th>Łagiewniki-Borek Fałęcki</th>\n",
       "      <th>Śródmieście</th>\n",
       "      <th>Żoliborz</th>\n",
       "    </tr>\n",
       "  </thead>\n",
       "  <tbody>\n",
       "    <tr>\n",
       "      <th>0</th>\n",
       "      <td>False</td>\n",
       "      <td>False</td>\n",
       "      <td>False</td>\n",
       "      <td>False</td>\n",
       "      <td>False</td>\n",
       "      <td>False</td>\n",
       "      <td>False</td>\n",
       "      <td>False</td>\n",
       "      <td>False</td>\n",
       "      <td>False</td>\n",
       "      <td>...</td>\n",
       "      <td>False</td>\n",
       "      <td>False</td>\n",
       "      <td>False</td>\n",
       "      <td>False</td>\n",
       "      <td>False</td>\n",
       "      <td>False</td>\n",
       "      <td>False</td>\n",
       "      <td>False</td>\n",
       "      <td>False</td>\n",
       "      <td>False</td>\n",
       "    </tr>\n",
       "    <tr>\n",
       "      <th>1</th>\n",
       "      <td>False</td>\n",
       "      <td>False</td>\n",
       "      <td>False</td>\n",
       "      <td>False</td>\n",
       "      <td>False</td>\n",
       "      <td>False</td>\n",
       "      <td>False</td>\n",
       "      <td>False</td>\n",
       "      <td>False</td>\n",
       "      <td>False</td>\n",
       "      <td>...</td>\n",
       "      <td>False</td>\n",
       "      <td>False</td>\n",
       "      <td>False</td>\n",
       "      <td>False</td>\n",
       "      <td>False</td>\n",
       "      <td>False</td>\n",
       "      <td>False</td>\n",
       "      <td>False</td>\n",
       "      <td>False</td>\n",
       "      <td>False</td>\n",
       "    </tr>\n",
       "    <tr>\n",
       "      <th>2</th>\n",
       "      <td>False</td>\n",
       "      <td>False</td>\n",
       "      <td>False</td>\n",
       "      <td>False</td>\n",
       "      <td>False</td>\n",
       "      <td>False</td>\n",
       "      <td>False</td>\n",
       "      <td>False</td>\n",
       "      <td>False</td>\n",
       "      <td>False</td>\n",
       "      <td>...</td>\n",
       "      <td>False</td>\n",
       "      <td>False</td>\n",
       "      <td>False</td>\n",
       "      <td>False</td>\n",
       "      <td>False</td>\n",
       "      <td>False</td>\n",
       "      <td>False</td>\n",
       "      <td>False</td>\n",
       "      <td>False</td>\n",
       "      <td>False</td>\n",
       "    </tr>\n",
       "  </tbody>\n",
       "</table>\n",
       "<p>3 rows × 39 columns</p>\n",
       "</div>"
      ],
      "text/plain": [
       "   Bemowo  Białołęka  Bielany  Bieńczyce  Bieżanów-Prokocim  Bronowice  \\\n",
       "0   False      False    False      False              False      False   \n",
       "1   False      False    False      False              False      False   \n",
       "2   False      False    False      False              False      False   \n",
       "\n",
       "   Dębniki  Grunwald  Grzegórzki  Jeżyce  ...  Wesoła  Wilanów  Wilda   Wola  \\\n",
       "0    False     False       False   False  ...   False    False  False  False   \n",
       "1    False     False       False   False  ...   False    False  False  False   \n",
       "2    False     False       False   False  ...   False    False  False  False   \n",
       "\n",
       "   Wzgórza Krzesławickie  Włochy  Zwierzyniec  Łagiewniki-Borek Fałęcki  \\\n",
       "0                  False   False        False                     False   \n",
       "1                  False   False        False                     False   \n",
       "2                  False   False        False                     False   \n",
       "\n",
       "   Śródmieście  Żoliborz  \n",
       "0        False     False  \n",
       "1        False     False  \n",
       "2        False     False  \n",
       "\n",
       "[3 rows x 39 columns]"
      ]
     },
     "execution_count": 35,
     "metadata": {},
     "output_type": "execute_result"
    }
   ],
   "source": [
    "dummies = pd.get_dummies(df7.address)\n",
    "dummies.head(3)"
   ]
  },
  {
   "cell_type": "code",
   "execution_count": 36,
   "id": "9f6ac4c8-8e16-41e3-a0c2-bbfe32ba7184",
   "metadata": {},
   "outputs": [
    {
     "data": {
      "text/html": [
       "<div>\n",
       "<style scoped>\n",
       "    .dataframe tbody tr th:only-of-type {\n",
       "        vertical-align: middle;\n",
       "    }\n",
       "\n",
       "    .dataframe tbody tr th {\n",
       "        vertical-align: top;\n",
       "    }\n",
       "\n",
       "    .dataframe thead th {\n",
       "        text-align: right;\n",
       "    }\n",
       "</style>\n",
       "<table border=\"1\" class=\"dataframe\">\n",
       "  <thead>\n",
       "    <tr style=\"text-align: right;\">\n",
       "      <th></th>\n",
       "      <th>address</th>\n",
       "      <th>city</th>\n",
       "      <th>floor</th>\n",
       "      <th>latitude</th>\n",
       "      <th>longitude</th>\n",
       "      <th>price</th>\n",
       "      <th>rooms</th>\n",
       "      <th>sq</th>\n",
       "      <th>year</th>\n",
       "      <th>price_per_sq</th>\n",
       "      <th>...</th>\n",
       "      <th>Wesoła</th>\n",
       "      <th>Wilanów</th>\n",
       "      <th>Wilda</th>\n",
       "      <th>Wola</th>\n",
       "      <th>Wzgórza Krzesławickie</th>\n",
       "      <th>Włochy</th>\n",
       "      <th>Zwierzyniec</th>\n",
       "      <th>Łagiewniki-Borek Fałęcki</th>\n",
       "      <th>Śródmieście</th>\n",
       "      <th>Żoliborz</th>\n",
       "    </tr>\n",
       "  </thead>\n",
       "  <tbody>\n",
       "    <tr>\n",
       "      <th>0</th>\n",
       "      <td>Podgórze</td>\n",
       "      <td>Kraków</td>\n",
       "      <td>2.0</td>\n",
       "      <td>50.049224</td>\n",
       "      <td>19.970379</td>\n",
       "      <td>749000.0</td>\n",
       "      <td>3.0</td>\n",
       "      <td>74.05</td>\n",
       "      <td>2021.0</td>\n",
       "      <td>10114.787306</td>\n",
       "      <td>...</td>\n",
       "      <td>False</td>\n",
       "      <td>False</td>\n",
       "      <td>False</td>\n",
       "      <td>False</td>\n",
       "      <td>False</td>\n",
       "      <td>False</td>\n",
       "      <td>False</td>\n",
       "      <td>False</td>\n",
       "      <td>False</td>\n",
       "      <td>False</td>\n",
       "    </tr>\n",
       "    <tr>\n",
       "      <th>1</th>\n",
       "      <td>Krowodrza</td>\n",
       "      <td>Kraków</td>\n",
       "      <td>2.0</td>\n",
       "      <td>50.066964</td>\n",
       "      <td>19.920025</td>\n",
       "      <td>427000.0</td>\n",
       "      <td>2.0</td>\n",
       "      <td>37.00</td>\n",
       "      <td>1970.0</td>\n",
       "      <td>11540.540541</td>\n",
       "      <td>...</td>\n",
       "      <td>False</td>\n",
       "      <td>False</td>\n",
       "      <td>False</td>\n",
       "      <td>False</td>\n",
       "      <td>False</td>\n",
       "      <td>False</td>\n",
       "      <td>False</td>\n",
       "      <td>False</td>\n",
       "      <td>False</td>\n",
       "      <td>False</td>\n",
       "    </tr>\n",
       "    <tr>\n",
       "      <th>2</th>\n",
       "      <td>Nowa Huta</td>\n",
       "      <td>Kraków</td>\n",
       "      <td>2.0</td>\n",
       "      <td>50.046943</td>\n",
       "      <td>19.997153</td>\n",
       "      <td>414600.0</td>\n",
       "      <td>1.0</td>\n",
       "      <td>34.55</td>\n",
       "      <td>2022.0</td>\n",
       "      <td>12000.000000</td>\n",
       "      <td>...</td>\n",
       "      <td>False</td>\n",
       "      <td>False</td>\n",
       "      <td>False</td>\n",
       "      <td>False</td>\n",
       "      <td>False</td>\n",
       "      <td>False</td>\n",
       "      <td>False</td>\n",
       "      <td>False</td>\n",
       "      <td>False</td>\n",
       "      <td>False</td>\n",
       "    </tr>\n",
       "    <tr>\n",
       "      <th>3</th>\n",
       "      <td>Podgórze</td>\n",
       "      <td>Kraków</td>\n",
       "      <td>0.0</td>\n",
       "      <td>50.049893</td>\n",
       "      <td>19.990603</td>\n",
       "      <td>750000.0</td>\n",
       "      <td>4.0</td>\n",
       "      <td>81.40</td>\n",
       "      <td>2021.0</td>\n",
       "      <td>9213.759214</td>\n",
       "      <td>...</td>\n",
       "      <td>False</td>\n",
       "      <td>False</td>\n",
       "      <td>False</td>\n",
       "      <td>False</td>\n",
       "      <td>False</td>\n",
       "      <td>False</td>\n",
       "      <td>False</td>\n",
       "      <td>False</td>\n",
       "      <td>False</td>\n",
       "      <td>False</td>\n",
       "    </tr>\n",
       "  </tbody>\n",
       "</table>\n",
       "<p>4 rows × 49 columns</p>\n",
       "</div>"
      ],
      "text/plain": [
       "     address    city  floor   latitude  longitude     price  rooms     sq  \\\n",
       "0   Podgórze  Kraków    2.0  50.049224  19.970379  749000.0    3.0  74.05   \n",
       "1  Krowodrza  Kraków    2.0  50.066964  19.920025  427000.0    2.0  37.00   \n",
       "2  Nowa Huta  Kraków    2.0  50.046943  19.997153  414600.0    1.0  34.55   \n",
       "3   Podgórze  Kraków    0.0  50.049893  19.990603  750000.0    4.0  81.40   \n",
       "\n",
       "     year  price_per_sq  ...  Wesoła  Wilanów  Wilda   Wola  \\\n",
       "0  2021.0  10114.787306  ...   False    False  False  False   \n",
       "1  1970.0  11540.540541  ...   False    False  False  False   \n",
       "2  2022.0  12000.000000  ...   False    False  False  False   \n",
       "3  2021.0   9213.759214  ...   False    False  False  False   \n",
       "\n",
       "   Wzgórza Krzesławickie  Włochy  Zwierzyniec  Łagiewniki-Borek Fałęcki  \\\n",
       "0                  False   False        False                     False   \n",
       "1                  False   False        False                     False   \n",
       "2                  False   False        False                     False   \n",
       "3                  False   False        False                     False   \n",
       "\n",
       "   Śródmieście  Żoliborz  \n",
       "0        False     False  \n",
       "1        False     False  \n",
       "2        False     False  \n",
       "3        False     False  \n",
       "\n",
       "[4 rows x 49 columns]"
      ]
     },
     "execution_count": 36,
     "metadata": {},
     "output_type": "execute_result"
    }
   ],
   "source": [
    "df8 = pd.concat([df7,dummies],axis='columns')\n",
    "df8.head(4)"
   ]
  },
  {
   "cell_type": "code",
   "execution_count": 54,
   "id": "d53b9f25-1b39-4b37-8af7-faffdad3ebb7",
   "metadata": {},
   "outputs": [
    {
     "data": {
      "text/html": [
       "<div>\n",
       "<style scoped>\n",
       "    .dataframe tbody tr th:only-of-type {\n",
       "        vertical-align: middle;\n",
       "    }\n",
       "\n",
       "    .dataframe tbody tr th {\n",
       "        vertical-align: top;\n",
       "    }\n",
       "\n",
       "    .dataframe thead th {\n",
       "        text-align: right;\n",
       "    }\n",
       "</style>\n",
       "<table border=\"1\" class=\"dataframe\">\n",
       "  <thead>\n",
       "    <tr style=\"text-align: right;\">\n",
       "      <th></th>\n",
       "      <th>floor</th>\n",
       "      <th>latitude</th>\n",
       "      <th>longitude</th>\n",
       "      <th>price</th>\n",
       "      <th>rooms</th>\n",
       "      <th>sq</th>\n",
       "      <th>year</th>\n",
       "      <th>price_per_sq</th>\n",
       "      <th>Bemowo</th>\n",
       "      <th>Białołęka</th>\n",
       "      <th>...</th>\n",
       "      <th>Wesoła</th>\n",
       "      <th>Wilanów</th>\n",
       "      <th>Wilda</th>\n",
       "      <th>Wola</th>\n",
       "      <th>Wzgórza Krzesławickie</th>\n",
       "      <th>Włochy</th>\n",
       "      <th>Zwierzyniec</th>\n",
       "      <th>Łagiewniki-Borek Fałęcki</th>\n",
       "      <th>Śródmieście</th>\n",
       "      <th>Żoliborz</th>\n",
       "    </tr>\n",
       "  </thead>\n",
       "  <tbody>\n",
       "    <tr>\n",
       "      <th>0</th>\n",
       "      <td>2.0</td>\n",
       "      <td>50.049224</td>\n",
       "      <td>19.970379</td>\n",
       "      <td>749000.0</td>\n",
       "      <td>3.0</td>\n",
       "      <td>74.05</td>\n",
       "      <td>2021.0</td>\n",
       "      <td>10114.787306</td>\n",
       "      <td>False</td>\n",
       "      <td>False</td>\n",
       "      <td>...</td>\n",
       "      <td>False</td>\n",
       "      <td>False</td>\n",
       "      <td>False</td>\n",
       "      <td>False</td>\n",
       "      <td>False</td>\n",
       "      <td>False</td>\n",
       "      <td>False</td>\n",
       "      <td>False</td>\n",
       "      <td>False</td>\n",
       "      <td>False</td>\n",
       "    </tr>\n",
       "    <tr>\n",
       "      <th>1</th>\n",
       "      <td>2.0</td>\n",
       "      <td>50.066964</td>\n",
       "      <td>19.920025</td>\n",
       "      <td>427000.0</td>\n",
       "      <td>2.0</td>\n",
       "      <td>37.00</td>\n",
       "      <td>1970.0</td>\n",
       "      <td>11540.540541</td>\n",
       "      <td>False</td>\n",
       "      <td>False</td>\n",
       "      <td>...</td>\n",
       "      <td>False</td>\n",
       "      <td>False</td>\n",
       "      <td>False</td>\n",
       "      <td>False</td>\n",
       "      <td>False</td>\n",
       "      <td>False</td>\n",
       "      <td>False</td>\n",
       "      <td>False</td>\n",
       "      <td>False</td>\n",
       "      <td>False</td>\n",
       "    </tr>\n",
       "    <tr>\n",
       "      <th>2</th>\n",
       "      <td>2.0</td>\n",
       "      <td>50.046943</td>\n",
       "      <td>19.997153</td>\n",
       "      <td>414600.0</td>\n",
       "      <td>1.0</td>\n",
       "      <td>34.55</td>\n",
       "      <td>2022.0</td>\n",
       "      <td>12000.000000</td>\n",
       "      <td>False</td>\n",
       "      <td>False</td>\n",
       "      <td>...</td>\n",
       "      <td>False</td>\n",
       "      <td>False</td>\n",
       "      <td>False</td>\n",
       "      <td>False</td>\n",
       "      <td>False</td>\n",
       "      <td>False</td>\n",
       "      <td>False</td>\n",
       "      <td>False</td>\n",
       "      <td>False</td>\n",
       "      <td>False</td>\n",
       "    </tr>\n",
       "  </tbody>\n",
       "</table>\n",
       "<p>3 rows × 47 columns</p>\n",
       "</div>"
      ],
      "text/plain": [
       "   floor   latitude  longitude     price  rooms     sq    year  price_per_sq  \\\n",
       "0    2.0  50.049224  19.970379  749000.0    3.0  74.05  2021.0  10114.787306   \n",
       "1    2.0  50.066964  19.920025  427000.0    2.0  37.00  1970.0  11540.540541   \n",
       "2    2.0  50.046943  19.997153  414600.0    1.0  34.55  2022.0  12000.000000   \n",
       "\n",
       "   Bemowo  Białołęka  ...  Wesoła  Wilanów  Wilda   Wola  \\\n",
       "0   False      False  ...   False    False  False  False   \n",
       "1   False      False  ...   False    False  False  False   \n",
       "2   False      False  ...   False    False  False  False   \n",
       "\n",
       "   Wzgórza Krzesławickie  Włochy  Zwierzyniec  Łagiewniki-Borek Fałęcki  \\\n",
       "0                  False   False        False                     False   \n",
       "1                  False   False        False                     False   \n",
       "2                  False   False        False                     False   \n",
       "\n",
       "   Śródmieście  Żoliborz  \n",
       "0        False     False  \n",
       "1        False     False  \n",
       "2        False     False  \n",
       "\n",
       "[3 rows x 47 columns]"
      ]
     },
     "execution_count": 54,
     "metadata": {},
     "output_type": "execute_result"
    }
   ],
   "source": [
    "df9 = df8.drop('address',axis='columns')\n",
    "df9 = df9.drop('city', axis='columns')\n",
    "df9.head(3)"
   ]
  },
  {
   "cell_type": "code",
   "execution_count": 104,
   "id": "d7e0f70e-ebfd-4558-bd08-e16b68868f04",
   "metadata": {},
   "outputs": [
    {
     "data": {
      "text/html": [
       "<div>\n",
       "<style scoped>\n",
       "    .dataframe tbody tr th:only-of-type {\n",
       "        vertical-align: middle;\n",
       "    }\n",
       "\n",
       "    .dataframe tbody tr th {\n",
       "        vertical-align: top;\n",
       "    }\n",
       "\n",
       "    .dataframe thead th {\n",
       "        text-align: right;\n",
       "    }\n",
       "</style>\n",
       "<table border=\"1\" class=\"dataframe\">\n",
       "  <thead>\n",
       "    <tr style=\"text-align: right;\">\n",
       "      <th></th>\n",
       "      <th>floor</th>\n",
       "      <th>rooms</th>\n",
       "      <th>sq</th>\n",
       "      <th>year</th>\n",
       "      <th>Bemowo</th>\n",
       "      <th>Białołęka</th>\n",
       "      <th>Bielany</th>\n",
       "      <th>Bieńczyce</th>\n",
       "      <th>Bieżanów-Prokocim</th>\n",
       "      <th>Bronowice</th>\n",
       "      <th>...</th>\n",
       "      <th>Wesoła</th>\n",
       "      <th>Wilanów</th>\n",
       "      <th>Wilda</th>\n",
       "      <th>Wola</th>\n",
       "      <th>Wzgórza Krzesławickie</th>\n",
       "      <th>Włochy</th>\n",
       "      <th>Zwierzyniec</th>\n",
       "      <th>Łagiewniki-Borek Fałęcki</th>\n",
       "      <th>Śródmieście</th>\n",
       "      <th>Żoliborz</th>\n",
       "    </tr>\n",
       "  </thead>\n",
       "  <tbody>\n",
       "    <tr>\n",
       "      <th>0</th>\n",
       "      <td>2.0</td>\n",
       "      <td>3.0</td>\n",
       "      <td>74.05</td>\n",
       "      <td>2021.0</td>\n",
       "      <td>False</td>\n",
       "      <td>False</td>\n",
       "      <td>False</td>\n",
       "      <td>False</td>\n",
       "      <td>False</td>\n",
       "      <td>False</td>\n",
       "      <td>...</td>\n",
       "      <td>False</td>\n",
       "      <td>False</td>\n",
       "      <td>False</td>\n",
       "      <td>False</td>\n",
       "      <td>False</td>\n",
       "      <td>False</td>\n",
       "      <td>False</td>\n",
       "      <td>False</td>\n",
       "      <td>False</td>\n",
       "      <td>False</td>\n",
       "    </tr>\n",
       "    <tr>\n",
       "      <th>1</th>\n",
       "      <td>2.0</td>\n",
       "      <td>2.0</td>\n",
       "      <td>37.00</td>\n",
       "      <td>1970.0</td>\n",
       "      <td>False</td>\n",
       "      <td>False</td>\n",
       "      <td>False</td>\n",
       "      <td>False</td>\n",
       "      <td>False</td>\n",
       "      <td>False</td>\n",
       "      <td>...</td>\n",
       "      <td>False</td>\n",
       "      <td>False</td>\n",
       "      <td>False</td>\n",
       "      <td>False</td>\n",
       "      <td>False</td>\n",
       "      <td>False</td>\n",
       "      <td>False</td>\n",
       "      <td>False</td>\n",
       "      <td>False</td>\n",
       "      <td>False</td>\n",
       "    </tr>\n",
       "    <tr>\n",
       "      <th>2</th>\n",
       "      <td>2.0</td>\n",
       "      <td>1.0</td>\n",
       "      <td>34.55</td>\n",
       "      <td>2022.0</td>\n",
       "      <td>False</td>\n",
       "      <td>False</td>\n",
       "      <td>False</td>\n",
       "      <td>False</td>\n",
       "      <td>False</td>\n",
       "      <td>False</td>\n",
       "      <td>...</td>\n",
       "      <td>False</td>\n",
       "      <td>False</td>\n",
       "      <td>False</td>\n",
       "      <td>False</td>\n",
       "      <td>False</td>\n",
       "      <td>False</td>\n",
       "      <td>False</td>\n",
       "      <td>False</td>\n",
       "      <td>False</td>\n",
       "      <td>False</td>\n",
       "    </tr>\n",
       "    <tr>\n",
       "      <th>3</th>\n",
       "      <td>0.0</td>\n",
       "      <td>4.0</td>\n",
       "      <td>81.40</td>\n",
       "      <td>2021.0</td>\n",
       "      <td>False</td>\n",
       "      <td>False</td>\n",
       "      <td>False</td>\n",
       "      <td>False</td>\n",
       "      <td>False</td>\n",
       "      <td>False</td>\n",
       "      <td>...</td>\n",
       "      <td>False</td>\n",
       "      <td>False</td>\n",
       "      <td>False</td>\n",
       "      <td>False</td>\n",
       "      <td>False</td>\n",
       "      <td>False</td>\n",
       "      <td>False</td>\n",
       "      <td>False</td>\n",
       "      <td>False</td>\n",
       "      <td>False</td>\n",
       "    </tr>\n",
       "    <tr>\n",
       "      <th>4</th>\n",
       "      <td>1.0</td>\n",
       "      <td>4.0</td>\n",
       "      <td>82.43</td>\n",
       "      <td>2021.0</td>\n",
       "      <td>False</td>\n",
       "      <td>False</td>\n",
       "      <td>False</td>\n",
       "      <td>False</td>\n",
       "      <td>False</td>\n",
       "      <td>False</td>\n",
       "      <td>...</td>\n",
       "      <td>False</td>\n",
       "      <td>False</td>\n",
       "      <td>False</td>\n",
       "      <td>False</td>\n",
       "      <td>False</td>\n",
       "      <td>False</td>\n",
       "      <td>False</td>\n",
       "      <td>False</td>\n",
       "      <td>False</td>\n",
       "      <td>False</td>\n",
       "    </tr>\n",
       "  </tbody>\n",
       "</table>\n",
       "<p>5 rows × 43 columns</p>\n",
       "</div>"
      ],
      "text/plain": [
       "   floor  rooms     sq    year  Bemowo  Białołęka  Bielany  Bieńczyce  \\\n",
       "0    2.0    3.0  74.05  2021.0   False      False    False      False   \n",
       "1    2.0    2.0  37.00  1970.0   False      False    False      False   \n",
       "2    2.0    1.0  34.55  2022.0   False      False    False      False   \n",
       "3    0.0    4.0  81.40  2021.0   False      False    False      False   \n",
       "4    1.0    4.0  82.43  2021.0   False      False    False      False   \n",
       "\n",
       "   Bieżanów-Prokocim  Bronowice  ...  Wesoła  Wilanów  Wilda   Wola  \\\n",
       "0              False      False  ...   False    False  False  False   \n",
       "1              False      False  ...   False    False  False  False   \n",
       "2              False      False  ...   False    False  False  False   \n",
       "3              False      False  ...   False    False  False  False   \n",
       "4              False      False  ...   False    False  False  False   \n",
       "\n",
       "   Wzgórza Krzesławickie  Włochy  Zwierzyniec  Łagiewniki-Borek Fałęcki  \\\n",
       "0                  False   False        False                     False   \n",
       "1                  False   False        False                     False   \n",
       "2                  False   False        False                     False   \n",
       "3                  False   False        False                     False   \n",
       "4                  False   False        False                     False   \n",
       "\n",
       "   Śródmieście  Żoliborz  \n",
       "0        False     False  \n",
       "1        False     False  \n",
       "2        False     False  \n",
       "3        False     False  \n",
       "4        False     False  \n",
       "\n",
       "[5 rows x 43 columns]"
      ]
     },
     "execution_count": 104,
     "metadata": {},
     "output_type": "execute_result"
    }
   ],
   "source": [
    "X = df9.drop(['price',\"latitude\", \"longitude\", \"price_per_sq\"], axis='columns')\n",
    "X_columns = X.columns\n",
    "X.head()"
   ]
  },
  {
   "cell_type": "code",
   "execution_count": 56,
   "id": "1532acb7-0746-474d-a3a9-d6d3de4a1983",
   "metadata": {},
   "outputs": [
    {
     "data": {
      "text/plain": [
       "0    749000.0\n",
       "1    427000.0\n",
       "2    414600.0\n",
       "3    750000.0\n",
       "4    756707.4\n",
       "Name: price, dtype: float64"
      ]
     },
     "execution_count": 56,
     "metadata": {},
     "output_type": "execute_result"
    }
   ],
   "source": [
    "y = df9.price\n",
    "y.head()"
   ]
  },
  {
   "cell_type": "code",
   "execution_count": 69,
   "id": "a320abd8-297b-4a8b-8ab8-80df662869cd",
   "metadata": {},
   "outputs": [],
   "source": [
    "X_train, X_test, y_train, y_test = train_test_split(X,y,test_size=0.2,random_state = 10)"
   ]
  },
  {
   "cell_type": "code",
   "execution_count": 70,
   "id": "45c7e19e-22c1-47bb-b132-8ecc5ba5c343",
   "metadata": {},
   "outputs": [
    {
     "data": {
      "text/plain": [
       "0.875221697630831"
      ]
     },
     "execution_count": 70,
     "metadata": {},
     "output_type": "execute_result"
    }
   ],
   "source": [
    "lr_clf = LinearRegression()\n",
    "lr_clf.fit(X_train,y_train)\n",
    "lr_clf.score(X_test,y_test)"
   ]
  },
  {
   "cell_type": "code",
   "execution_count": 71,
   "id": "acb10c4c-42a9-41a5-ac52-93abf1b53e6a",
   "metadata": {},
   "outputs": [
    {
     "data": {
      "text/plain": [
       "array([0.87487974, 0.8722308 , 0.86846794, 0.86791923, 0.86570797,\n",
       "       0.87163459, 0.86472196, 0.87334079, 0.88321309, 0.88040474])"
      ]
     },
     "execution_count": 71,
     "metadata": {},
     "output_type": "execute_result"
    }
   ],
   "source": [
    "from sklearn.model_selection import ShuffleSplit\n",
    "from sklearn.model_selection import cross_val_score\n",
    "cv = ShuffleSplit(n_splits=10, test_size=0.2, random_state=0)\n",
    "cross_val_score(LinearRegression(), X, y, cv=cv)"
   ]
  },
  {
   "cell_type": "code",
   "execution_count": 72,
   "id": "36de7743-8d79-4d2e-99c1-fb0ad104be03",
   "metadata": {},
   "outputs": [
    {
     "data": {
      "text/html": [
       "<div>\n",
       "<style scoped>\n",
       "    .dataframe tbody tr th:only-of-type {\n",
       "        vertical-align: middle;\n",
       "    }\n",
       "\n",
       "    .dataframe tbody tr th {\n",
       "        vertical-align: top;\n",
       "    }\n",
       "\n",
       "    .dataframe thead th {\n",
       "        text-align: right;\n",
       "    }\n",
       "</style>\n",
       "<table border=\"1\" class=\"dataframe\">\n",
       "  <thead>\n",
       "    <tr style=\"text-align: right;\">\n",
       "      <th></th>\n",
       "      <th>floor</th>\n",
       "      <th>rooms</th>\n",
       "      <th>sq</th>\n",
       "      <th>year</th>\n",
       "      <th>Bemowo</th>\n",
       "      <th>Białołęka</th>\n",
       "      <th>Bielany</th>\n",
       "      <th>Bieńczyce</th>\n",
       "      <th>Bieżanów-Prokocim</th>\n",
       "      <th>Bronowice</th>\n",
       "      <th>...</th>\n",
       "      <th>Wesoła</th>\n",
       "      <th>Wilanów</th>\n",
       "      <th>Wilda</th>\n",
       "      <th>Wola</th>\n",
       "      <th>Wzgórza Krzesławickie</th>\n",
       "      <th>Włochy</th>\n",
       "      <th>Zwierzyniec</th>\n",
       "      <th>Łagiewniki-Borek Fałęcki</th>\n",
       "      <th>Śródmieście</th>\n",
       "      <th>Żoliborz</th>\n",
       "    </tr>\n",
       "  </thead>\n",
       "  <tbody>\n",
       "    <tr>\n",
       "      <th>0</th>\n",
       "      <td>2.0</td>\n",
       "      <td>3.0</td>\n",
       "      <td>74.05</td>\n",
       "      <td>2021.0</td>\n",
       "      <td>False</td>\n",
       "      <td>False</td>\n",
       "      <td>False</td>\n",
       "      <td>False</td>\n",
       "      <td>False</td>\n",
       "      <td>False</td>\n",
       "      <td>...</td>\n",
       "      <td>False</td>\n",
       "      <td>False</td>\n",
       "      <td>False</td>\n",
       "      <td>False</td>\n",
       "      <td>False</td>\n",
       "      <td>False</td>\n",
       "      <td>False</td>\n",
       "      <td>False</td>\n",
       "      <td>False</td>\n",
       "      <td>False</td>\n",
       "    </tr>\n",
       "    <tr>\n",
       "      <th>1</th>\n",
       "      <td>2.0</td>\n",
       "      <td>2.0</td>\n",
       "      <td>37.00</td>\n",
       "      <td>1970.0</td>\n",
       "      <td>False</td>\n",
       "      <td>False</td>\n",
       "      <td>False</td>\n",
       "      <td>False</td>\n",
       "      <td>False</td>\n",
       "      <td>False</td>\n",
       "      <td>...</td>\n",
       "      <td>False</td>\n",
       "      <td>False</td>\n",
       "      <td>False</td>\n",
       "      <td>False</td>\n",
       "      <td>False</td>\n",
       "      <td>False</td>\n",
       "      <td>False</td>\n",
       "      <td>False</td>\n",
       "      <td>False</td>\n",
       "      <td>False</td>\n",
       "    </tr>\n",
       "    <tr>\n",
       "      <th>2</th>\n",
       "      <td>2.0</td>\n",
       "      <td>1.0</td>\n",
       "      <td>34.55</td>\n",
       "      <td>2022.0</td>\n",
       "      <td>False</td>\n",
       "      <td>False</td>\n",
       "      <td>False</td>\n",
       "      <td>False</td>\n",
       "      <td>False</td>\n",
       "      <td>False</td>\n",
       "      <td>...</td>\n",
       "      <td>False</td>\n",
       "      <td>False</td>\n",
       "      <td>False</td>\n",
       "      <td>False</td>\n",
       "      <td>False</td>\n",
       "      <td>False</td>\n",
       "      <td>False</td>\n",
       "      <td>False</td>\n",
       "      <td>False</td>\n",
       "      <td>False</td>\n",
       "    </tr>\n",
       "  </tbody>\n",
       "</table>\n",
       "<p>3 rows × 43 columns</p>\n",
       "</div>"
      ],
      "text/plain": [
       "   floor  rooms     sq    year  Bemowo  Białołęka  Bielany  Bieńczyce  \\\n",
       "0    2.0    3.0  74.05  2021.0   False      False    False      False   \n",
       "1    2.0    2.0  37.00  1970.0   False      False    False      False   \n",
       "2    2.0    1.0  34.55  2022.0   False      False    False      False   \n",
       "\n",
       "   Bieżanów-Prokocim  Bronowice  ...  Wesoła  Wilanów  Wilda   Wola  \\\n",
       "0              False      False  ...   False    False  False  False   \n",
       "1              False      False  ...   False    False  False  False   \n",
       "2              False      False  ...   False    False  False  False   \n",
       "\n",
       "   Wzgórza Krzesławickie  Włochy  Zwierzyniec  Łagiewniki-Borek Fałęcki  \\\n",
       "0                  False   False        False                     False   \n",
       "1                  False   False        False                     False   \n",
       "2                  False   False        False                     False   \n",
       "\n",
       "   Śródmieście  Żoliborz  \n",
       "0        False     False  \n",
       "1        False     False  \n",
       "2        False     False  \n",
       "\n",
       "[3 rows x 43 columns]"
      ]
     },
     "execution_count": 72,
     "metadata": {},
     "output_type": "execute_result"
    }
   ],
   "source": [
    "X.head(3)"
   ]
  },
  {
   "cell_type": "code",
   "execution_count": 73,
   "id": "c044af71-35d1-4de8-8e46-499928476961",
   "metadata": {},
   "outputs": [],
   "source": [
    "weights = {\n",
    "    col:1 for col in X_train.columns\n",
    "}"
   ]
  },
  {
   "cell_type": "code",
   "execution_count": 74,
   "id": "fc262313-55f4-4066-801c-5e23eb5bc840",
   "metadata": {},
   "outputs": [
    {
     "data": {
      "text/plain": [
       "{'floor': 1,\n",
       " 'rooms': 1,\n",
       " 'sq': 5,\n",
       " 'year': 1,\n",
       " 'Bemowo': 1,\n",
       " 'Białołęka': 1,\n",
       " 'Bielany': 1,\n",
       " 'Bieńczyce': 1,\n",
       " 'Bieżanów-Prokocim': 1,\n",
       " 'Bronowice': 1,\n",
       " 'Dębniki': 1,\n",
       " 'Grunwald': 1,\n",
       " 'Grzegórzki': 1,\n",
       " 'Jeżyce': 1,\n",
       " 'Krowodrza': 1,\n",
       " 'Mistrzejowice': 1,\n",
       " 'Mokotów': 1,\n",
       " 'Nowa Huta': 1,\n",
       " 'Nowe Miasto': 1,\n",
       " 'Ochota': 1,\n",
       " 'Podgórze': 1,\n",
       " 'Podgórze Duchackie': 1,\n",
       " 'Praga-Południe': 1,\n",
       " 'Praga-Północ': 1,\n",
       " 'Prądnik Biały': 1,\n",
       " 'Prądnik Czerwony': 1,\n",
       " 'Rembertów': 1,\n",
       " 'Stare Miasto': 1,\n",
       " 'Swoszowice': 1,\n",
       " 'Targówek': 1,\n",
       " 'Ursus': 1,\n",
       " 'Ursynów': 1,\n",
       " 'Wawer': 1,\n",
       " 'Wesoła': 1,\n",
       " 'Wilanów': 1,\n",
       " 'Wilda': 1,\n",
       " 'Wola': 1,\n",
       " 'Wzgórza Krzesławickie': 1,\n",
       " 'Włochy': 1,\n",
       " 'Zwierzyniec': 1,\n",
       " 'Łagiewniki-Borek Fałęcki': 1,\n",
       " 'Śródmieście': 1,\n",
       " 'Żoliborz': 1}"
      ]
     },
     "execution_count": 74,
     "metadata": {},
     "output_type": "execute_result"
    }
   ],
   "source": [
    "# manupulacja wagami\n",
    "weights['sq'] = 5\n",
    "weights"
   ]
  },
  {
   "cell_type": "code",
   "execution_count": 98,
   "id": "eacba6b6-68c0-4dc0-b550-1a43fea4649c",
   "metadata": {},
   "outputs": [],
   "source": [
    "# funkcja do szacowania cen\n",
    "def predict_price(address, floor, rooms, sq, year, model):\n",
    "    address_index = np.where(X.columns==address)[0][0]\n",
    "    x = np.zeros(len(X.columns))\n",
    "    x[0] = floor\n",
    "    x[1] = rooms\n",
    "    x[2] = sq\n",
    "    x[3] = year\n",
    "    if address_index >= 0:\n",
    "        x[address_index] = 1\n",
    "    return model.predict([x])[0]"
   ]
  },
  {
   "cell_type": "code",
   "execution_count": 112,
   "id": "7699da7a-2f5a-4a76-abd3-87836144f0f8",
   "metadata": {},
   "outputs": [
    {
     "name": "stderr",
     "output_type": "stream",
     "text": [
      "C:\\Users\\pawel\\source\\repos\\House_Prices_Estimating\\AIenv\\lib\\site-packages\\sklearn\\base.py:493: UserWarning: X does not have valid feature names, but LinearRegression was fitted with feature names\n",
      "  warnings.warn(\n"
     ]
    },
    {
     "data": {
      "text/plain": [
       "760925.3981932802"
      ]
     },
     "execution_count": 112,
     "metadata": {},
     "output_type": "execute_result"
    }
   ],
   "source": [
    "# tutaj jest dziwny komunikat, ale ogólnie to sie wykonuje\n",
    "# cen\n",
    "predict_price('Podgórze', 2.0, 3.0,\t74.05, 2021.0, lr_clf)"
   ]
  },
  {
   "cell_type": "code",
   "execution_count": 100,
   "id": "f552b886-d517-4f4d-a392-98399ae38dff",
   "metadata": {},
   "outputs": [
    {
     "name": "stderr",
     "output_type": "stream",
     "text": [
      "C:\\Users\\pawel\\source\\repos\\House_Prices_Estimating\\AIenv\\lib\\site-packages\\sklearn\\base.py:493: UserWarning: X does not have valid feature names, but LinearRegression was fitted with feature names\n",
      "  warnings.warn(\n"
     ]
    },
    {
     "data": {
      "text/plain": [
       "364223.8510919435"
      ]
     },
     "execution_count": 100,
     "metadata": {},
     "output_type": "execute_result"
    }
   ],
   "source": [
    "predict_price('Nowa Huta', 2.0, 1.0, 34.55, 2022.0, lr_clf)"
   ]
  },
  {
   "cell_type": "code",
   "execution_count": 89,
   "id": "369a00e3-2562-4c51-8d5c-b14f605cd8dd",
   "metadata": {},
   "outputs": [
    {
     "name": "stdout",
     "output_type": "stream",
     "text": [
      "Index(['floor', 'rooms', 'sq', 'year', 'Bemowo', 'Białołęka', 'Bielany',\n",
      "       'Bieńczyce', 'Bieżanów-Prokocim', 'Bronowice', 'Dębniki', 'Grunwald',\n",
      "       'Grzegórzki', 'Jeżyce', 'Krowodrza', 'Mistrzejowice', 'Mokotów',\n",
      "       'Nowa Huta', 'Nowe Miasto', 'Ochota', 'Podgórze', 'Podgórze Duchackie',\n",
      "       'Praga-Południe', 'Praga-Północ', 'Prądnik Biały', 'Prądnik Czerwony',\n",
      "       'Rembertów', 'Stare Miasto', 'Swoszowice', 'Targówek', 'Ursus',\n",
      "       'Ursynów', 'Wawer', 'Wesoła', 'Wilanów', 'Wilda', 'Wola',\n",
      "       'Wzgórza Krzesławickie', 'Włochy', 'Zwierzyniec',\n",
      "       'Łagiewniki-Borek Fałęcki', 'Śródmieście', 'Żoliborz'],\n",
      "      dtype='object')\n"
     ]
    },
    {
     "data": {
      "text/plain": [
       "20"
      ]
     },
     "execution_count": 89,
     "metadata": {},
     "output_type": "execute_result"
    }
   ],
   "source": [
    "print(X.columns)\n",
    "np.where(X.columns==\"Podgórze\")[0][0]"
   ]
  },
  {
   "cell_type": "code",
   "execution_count": 102,
   "id": "d792eed1-c85f-46a8-9a0d-06a8ecd3f5bf",
   "metadata": {},
   "outputs": [],
   "source": [
    "# tutaj ustawiamy sobie model, który chcemy żeby działał na stronce\n",
    "# ogólnie to nie ma zrobionych wag, więc można się tym pobawić\n",
    "# i jak uda się osiągnąć lepszy wynik modelu, to tutaj można go podmienić\n",
    "# tylko proponuję zrobić nowy model do testowania nowych sposobów, żeby nie naszponcić :)\n",
    "result_model = lr_clf"
   ]
  },
  {
   "cell_type": "code",
   "execution_count": 110,
   "id": "17d19fbc-f92d-4cdd-b883-4ae311e1e778",
   "metadata": {},
   "outputs": [],
   "source": [
    "# eksport modelu\n",
    "# jak model się poprawi, to odkomenować, wykonać i zakomentować\n",
    "\n",
    "# import pickle\n",
    "# with open('house_prices_model.pickle', 'wb') as f:\n",
    "#     pickle.dump(result_model, f)"
   ]
  },
  {
   "cell_type": "code",
   "execution_count": 111,
   "id": "69662811-a43d-4f46-92a5-03bb3c4f95e7",
   "metadata": {},
   "outputs": [],
   "source": [
    "# eksport kolumn\n",
    "# jak model się poprawi, to odkomenować, wykonać i zakomentować\n",
    "\n",
    "# import json\n",
    "# columns = {\n",
    "#     'data_columns': [col.lower() for col in X_columns]\n",
    "# }\n",
    "# with open('columns.json', 'w') as f:\n",
    "#     f.write(json.dumps(columns))"
   ]
  },
  {
   "cell_type": "code",
   "execution_count": null,
   "id": "ed7a0bf1-568e-437b-afa0-c2bbfba55b1e",
   "metadata": {},
   "outputs": [],
   "source": []
  }
 ],
 "metadata": {
  "kernelspec": {
   "display_name": "AIenv",
   "language": "python",
   "name": "aienv"
  },
  "language_info": {
   "codemirror_mode": {
    "name": "ipython",
    "version": 3
   },
   "file_extension": ".py",
   "mimetype": "text/x-python",
   "name": "python",
   "nbconvert_exporter": "python",
   "pygments_lexer": "ipython3",
   "version": "3.10.5"
  }
 },
 "nbformat": 4,
 "nbformat_minor": 5
}
